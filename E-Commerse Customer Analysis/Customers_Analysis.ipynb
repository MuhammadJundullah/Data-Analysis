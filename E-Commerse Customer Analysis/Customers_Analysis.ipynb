{
  "nbformat": 4,
  "nbformat_minor": 0,
  "metadata": {
    "colab": {
      "private_outputs": true,
      "provenance": [],
      "authorship_tag": "ABX9TyOGrb1Lry09Qu/tUDKbGYw1",
      "include_colab_link": true
    },
    "kernelspec": {
      "name": "python3",
      "display_name": "Python 3"
    },
    "language_info": {
      "name": "python"
    }
  },
  "cells": [
    {
      "cell_type": "markdown",
      "metadata": {
        "id": "view-in-github",
        "colab_type": "text"
      },
      "source": [
        "<a href=\"https://colab.research.google.com/github/MuhammadJundullah/Data-Analysis/blob/main/E-Commerse%20Customer%20Analysis/Customers_Analysis.ipynb\" target=\"_parent\"><img src=\"https://colab.research.google.com/assets/colab-badge.svg\" alt=\"Open In Colab\"/></a>"
      ]
    },
    {
      "cell_type": "code",
      "execution_count": null,
      "metadata": {
        "id": "d3Xh2KEZCW9z"
      },
      "outputs": [],
      "source": [
        "import pandas as pd\n",
        "import numpy as np\n",
        "import matplotlib.pyplot as plt\n",
        "import seaborn as sns\n",
        "from google.colab import drive\n",
        "drive.mount(\"/content/gdrive\")\n",
        "\n",
        "pd.set_option('display.max_columns', None)\n",
        "sns.set_context('notebook')\n",
        "sns.set_style('whitegrid')\n",
        "sns.set_palette('Spectral')\n",
        "\n",
        "import warnings\n",
        "warnings.filterwarnings(\"ignore\")"
      ]
    },
    {
      "cell_type": "code",
      "source": [
        "df = pd.read_csv(\"/content/gdrive/MyDrive/Colab Notebooks/E-Commerse Customer_Dataset/Customers.csv\")\n",
        "df.head(2)"
      ],
      "metadata": {
        "id": "bx8MyHt8C99m"
      },
      "execution_count": null,
      "outputs": []
    },
    {
      "cell_type": "markdown",
      "source": [],
      "metadata": {
        "id": "62t5lDufeZYS"
      }
    },
    {
      "cell_type": "markdown",
      "source": [
        "# Data Cleaning"
      ],
      "metadata": {
        "id": "1iX1A7vgD4n7"
      }
    },
    {
      "cell_type": "code",
      "source": [
        "df.shape"
      ],
      "metadata": {
        "id": "B5JYaMjwD1ZT"
      },
      "execution_count": null,
      "outputs": []
    },
    {
      "cell_type": "code",
      "source": [
        "df.info()"
      ],
      "metadata": {
        "id": "nezjqjB1ECL7"
      },
      "execution_count": null,
      "outputs": []
    },
    {
      "cell_type": "code",
      "source": [
        "df.duplicated().sum()"
      ],
      "metadata": {
        "id": "r4ZfRQcIEEF8"
      },
      "execution_count": null,
      "outputs": []
    },
    {
      "cell_type": "code",
      "source": [
        "df.isnull().sum()"
      ],
      "metadata": {
        "id": "WDd41CG0EWSz"
      },
      "execution_count": null,
      "outputs": []
    },
    {
      "cell_type": "code",
      "source": [
        "for dtype, col in (list(zip(df.dtypes, df.columns))):\n",
        "    if dtype == 'int64' or dtype == 'float64':\n",
        "        print(col, dtype)\n",
        "        print(df[col].min(), df[col].max())\n",
        "    else:\n",
        "        print(col, dtype)\n",
        "        print(df[col].unique())\n",
        "\n",
        "    print()"
      ],
      "metadata": {
        "id": "2EypqtHKEbEL"
      },
      "execution_count": null,
      "outputs": []
    },
    {
      "cell_type": "markdown",
      "source": [
        "### Remove columns"
      ],
      "metadata": {
        "id": "SVjFsfqLgatk"
      }
    },
    {
      "cell_type": "code",
      "source": [
        "df.drop(columns=[\"CustomerID\"], inplace=True)\n",
        "df.head(2)"
      ],
      "metadata": {
        "id": "4zHYICPzgErm"
      },
      "execution_count": null,
      "outputs": []
    },
    {
      "cell_type": "markdown",
      "source": [
        "### Missing Values"
      ],
      "metadata": {
        "id": "5e2s1ScyfSZv"
      }
    },
    {
      "cell_type": "code",
      "source": [
        "df.dropna(inplace=True)"
      ],
      "metadata": {
        "id": "D0AFC2PFdsRE"
      },
      "execution_count": null,
      "outputs": []
    },
    {
      "cell_type": "markdown",
      "source": [
        "# Data Eksploratory"
      ],
      "metadata": {
        "id": "9gdmu6sPkQ7b"
      }
    },
    {
      "cell_type": "markdown",
      "source": [
        "### Outliers"
      ],
      "metadata": {
        "id": "jKIXonopfVpM"
      }
    },
    {
      "cell_type": "code",
      "source": [
        "df_to_plot = df.select_dtypes(include=['float','int'])\n",
        "df_to_plot.columns"
      ],
      "metadata": {
        "id": "xRl3hrZye_T2"
      },
      "execution_count": null,
      "outputs": []
    },
    {
      "cell_type": "code",
      "source": [
        "df_to_plot.plot(subplots=True, layout=[2,5], kind=\"box\", figsize=(15,8))\n",
        "plt.subplots_adjust(wspace=0.5);"
      ],
      "metadata": {
        "id": "QJqwtRofgphd"
      },
      "execution_count": null,
      "outputs": []
    },
    {
      "cell_type": "markdown",
      "source": [
        "### Data Distribution"
      ],
      "metadata": {
        "id": "1KgVRvqFk1Zh"
      }
    },
    {
      "cell_type": "code",
      "source": [
        "numeric = df_to_plot.columns\n",
        "numeric\n",
        "\n",
        "fig = plt.figure(figsize=(15,10))\n",
        "ax = plt.gca()\n",
        "\n",
        "df.hist(bins=50, ax=ax, layout=(4,4), column=numeric)\n",
        "plt.tight_layout()\n",
        "plt.show()"
      ],
      "metadata": {
        "id": "bZv-q397gyEv"
      },
      "execution_count": null,
      "outputs": []
    },
    {
      "cell_type": "markdown",
      "source": [
        "\n",
        "\n",
        "*   Rata rata customers memiliki income tahunan lebih dari 50000$\n",
        "*   Rata rata customers memiliki work experience 0 - 2 tahun\n",
        "*   Paling banyak customer yang membeli memiliki family size 2\n",
        "\n"
      ],
      "metadata": {
        "id": "1HkeH5RRqVKV"
      }
    },
    {
      "cell_type": "markdown",
      "source": [
        "### Data Insight"
      ],
      "metadata": {
        "id": "L-Y3RO-flLow"
      }
    },
    {
      "cell_type": "code",
      "source": [
        "corr = df_to_plot.corr()\n",
        "sns.heatmap(corr, cmap=\"coolwarm\", annot=True, fmt=\".2f\")\n",
        "plt.show()"
      ],
      "metadata": {
        "id": "hopHDc5_lg65"
      },
      "execution_count": null,
      "outputs": []
    },
    {
      "cell_type": "code",
      "source": [
        "df_to_plot.columns"
      ],
      "metadata": {
        "id": "F53a13cXndRY"
      },
      "execution_count": null,
      "outputs": []
    },
    {
      "cell_type": "code",
      "source": [
        "sns.scatterplot(data=df, x=df[\"Annual Income ($)\"], y=df[\"Spending Score (1-100)\"] )"
      ],
      "metadata": {
        "id": "_LJMI9wpxDSI"
      },
      "execution_count": null,
      "outputs": []
    },
    {
      "cell_type": "markdown",
      "source": [
        "\n",
        "\n",
        "*  Income tahunan customer tidak begitu memengaruhi spending score\n",
        "\n"
      ],
      "metadata": {
        "id": "fclDxPW5qHKn"
      }
    },
    {
      "cell_type": "code",
      "source": [
        "sns.scatterplot(data=df, x=df[\"Age\"], y=df[\"Spending Score (1-100)\"] )"
      ],
      "metadata": {
        "id": "FeRqgsVhcmhU"
      },
      "execution_count": null,
      "outputs": []
    },
    {
      "cell_type": "markdown",
      "source": [
        "*  Umur customer tidak begitu memengaruhi spending score"
      ],
      "metadata": {
        "id": "TBSBPlnFrqGg"
      }
    },
    {
      "cell_type": "code",
      "source": [
        "mean_scores = df.groupby('Gender')['Spending Score (1-100)'].mean().sort_values(ascending=False)\n",
        "plt.figure(figsize=(8, 10))\n",
        "sns.boxplot(data=df, x='Gender', y='Spending Score (1-100)', order=mean_scores.index)\n",
        "plt.show()"
      ],
      "metadata": {
        "id": "SchXSTkTrhVi"
      },
      "execution_count": null,
      "outputs": []
    },
    {
      "cell_type": "markdown",
      "source": [
        "\n",
        "\n",
        "*   Gender Customer juga tidak begitu memengaruhi Spending Score\n",
        "\n"
      ],
      "metadata": {
        "id": "ZyDJvO7osJin"
      }
    },
    {
      "cell_type": "code",
      "source": [
        "mean_scores = df.groupby('Profession')['Spending Score (1-100)'].mean().sort_values(ascending=False)\n",
        "plt.figure(figsize=(20, 10))\n",
        "sns.boxplot(data=df, x='Profession', y='Spending Score (1-100)', order=mean_scores.index)\n",
        "plt.show()"
      ],
      "metadata": {
        "id": "hzsU5NUYsHNw"
      },
      "execution_count": null,
      "outputs": []
    },
    {
      "cell_type": "markdown",
      "source": [
        "\n",
        "\n",
        "*   Customer yang memiliki Spending Score tinggi berprofesi sebagai Entertainment\n",
        "\n"
      ],
      "metadata": {
        "id": "GdQARqIOw2Pf"
      }
    },
    {
      "cell_type": "code",
      "source": [
        "mean_scores = df.groupby('Work Experience')['Spending Score (1-100)'].mean().sort_values(ascending=False)\n",
        "plt.figure(figsize=(20, 10))\n",
        "sns.boxplot(data=df, x='Work Experience', y='Spending Score (1-100)', order=mean_scores.index)\n",
        "plt.show()"
      ],
      "metadata": {
        "id": "s6o3gc_nwojW"
      },
      "execution_count": null,
      "outputs": []
    },
    {
      "cell_type": "markdown",
      "source": [
        "\n",
        "\n",
        "*   Customer yang memiliki work ekperience belum banyak cenderung memiliki spend score tinggi\n",
        "\n"
      ],
      "metadata": {
        "id": "EqaVYCP_2g3a"
      }
    },
    {
      "cell_type": "code",
      "source": [
        "mean_scores = df.groupby('Family Size')['Spending Score (1-100)'].mean().sort_values(ascending=False)\n",
        "plt.figure(figsize=(20, 10))\n",
        "sns.boxplot(data=df, x='Family Size', y='Spending Score (1-100)', order=mean_scores.index)\n",
        "plt.show()"
      ],
      "metadata": {
        "id": "U46KlHOFxZe3"
      },
      "execution_count": null,
      "outputs": []
    },
    {
      "cell_type": "code",
      "source": [],
      "metadata": {
        "id": "EdTS1ZWD3SRf"
      },
      "execution_count": null,
      "outputs": []
    }
  ]
}