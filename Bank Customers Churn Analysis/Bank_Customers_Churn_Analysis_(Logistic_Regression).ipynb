{
  "nbformat": 4,
  "nbformat_minor": 0,
  "metadata": {
    "colab": {
      "private_outputs": true,
      "provenance": [],
      "authorship_tag": "ABX9TyOFWh9KQ8NhbjMpJp34TdhU",
      "include_colab_link": true
    },
    "kernelspec": {
      "name": "python3",
      "display_name": "Python 3"
    },
    "language_info": {
      "name": "python"
    }
  },
  "cells": [
    {
      "cell_type": "markdown",
      "metadata": {
        "id": "view-in-github",
        "colab_type": "text"
      },
      "source": [
        "<a href=\"https://colab.research.google.com/github/MuhammadJundullah/Data-Analysis/blob/main/Bank%20Customers%20Churn%20Analysis/Bank_Customers_Churn_Analysis_(Logistic_Regression).ipynb\" target=\"_parent\"><img src=\"https://colab.research.google.com/assets/colab-badge.svg\" alt=\"Open In Colab\"/></a>"
      ]
    },
    {
      "cell_type": "markdown",
      "source": [
        "Dataset Source : https://www.kaggle.com/models/nidhibarao/bank-customer-churn/code"
      ],
      "metadata": {
        "id": "V7z4Ymfan4mH"
      }
    },
    {
      "cell_type": "code",
      "source": [
        "import kagglehub\n",
        "import pandas as pd\n",
        "import numpy as np"
      ],
      "metadata": {
        "id": "dNRNjoEM4aZR"
      },
      "execution_count": null,
      "outputs": []
    },
    {
      "cell_type": "markdown",
      "source": [
        "# Data Importing"
      ],
      "metadata": {
        "id": "aUBvvE5DsG60"
      }
    },
    {
      "cell_type": "code",
      "execution_count": null,
      "metadata": {
        "id": "CqDUxR91nSQ-"
      },
      "outputs": [],
      "source": [
        "path = kagglehub.model_download(\"nidhibarao/bank-customer-churn/other/bankcustomerchurn\")\n",
        "\n",
        "print(\"Path to model files:\", path)"
      ]
    },
    {
      "cell_type": "markdown",
      "source": [
        "# EDA"
      ],
      "metadata": {
        "id": "5O7dRWu1omO9"
      }
    },
    {
      "cell_type": "code",
      "source": [
        "df = pd.read_csv(path + \"/Bank Churn Modelling.csv\")\n",
        "df.head()"
      ],
      "metadata": {
        "id": "ZC2T0NhInYJH"
      },
      "execution_count": null,
      "outputs": []
    },
    {
      "cell_type": "code",
      "source": [
        "df.shape"
      ],
      "metadata": {
        "id": "orPWZXgRnijs"
      },
      "execution_count": null,
      "outputs": []
    },
    {
      "cell_type": "code",
      "source": [
        "df.info()"
      ],
      "metadata": {
        "id": "usboVJu4oQZb"
      },
      "execution_count": null,
      "outputs": []
    },
    {
      "cell_type": "code",
      "source": [
        "df.nunique()"
      ],
      "metadata": {
        "id": "fDKirFYroTx6"
      },
      "execution_count": null,
      "outputs": []
    },
    {
      "cell_type": "code",
      "source": [
        "df.isna().sum()"
      ],
      "metadata": {
        "id": "wOBzyA_boY_p"
      },
      "execution_count": null,
      "outputs": []
    },
    {
      "cell_type": "code",
      "source": [
        "df.duplicated().sum()"
      ],
      "metadata": {
        "id": "R45DUzeNqxPz"
      },
      "execution_count": null,
      "outputs": []
    },
    {
      "cell_type": "code",
      "source": [
        "df = df.set_index(\"CustomerId\")"
      ],
      "metadata": {
        "id": "1vXl9B0oqzu4"
      },
      "execution_count": null,
      "outputs": []
    },
    {
      "cell_type": "markdown",
      "source": [
        "# Data Preprocessing"
      ],
      "metadata": {
        "id": "HDAD_zfmr8vv"
      }
    },
    {
      "cell_type": "code",
      "source": [
        "df[\"Geography\"].value_counts()"
      ],
      "metadata": {
        "id": "x6SOf5g9rgCk"
      },
      "execution_count": null,
      "outputs": []
    },
    {
      "cell_type": "code",
      "source": [
        "df.replace({'Geography' : {'Spain': 0 , 'Germany': 1, 'France': 2 }}, inplace = True)"
      ],
      "metadata": {
        "id": "G4QEf-1Drg5z"
      },
      "execution_count": null,
      "outputs": []
    },
    {
      "cell_type": "markdown",
      "source": [
        "*keterangan\n",
        "- Spain = 0\n",
        "- Germany = 1\n",
        "- France = 2"
      ],
      "metadata": {
        "id": "LN2eOah2557V"
      }
    },
    {
      "cell_type": "code",
      "source": [
        "df['Gender'].value_counts()"
      ],
      "metadata": {
        "id": "LcgcUwp-0Hlg"
      },
      "execution_count": null,
      "outputs": []
    },
    {
      "cell_type": "code",
      "source": [
        "df.replace({'Gender': {'Male':0, 'Female':1}}, inplace = True)"
      ],
      "metadata": {
        "id": "5pKnmctp0ObX"
      },
      "execution_count": null,
      "outputs": []
    },
    {
      "cell_type": "markdown",
      "source": [
        "*keterangan\n",
        "- Male = 0\n",
        "- Female = 1"
      ],
      "metadata": {
        "id": "5c1s4nac6Ipd"
      }
    },
    {
      "cell_type": "code",
      "source": [
        "df['Num Of Products'].value_counts()"
      ],
      "metadata": {
        "id": "nhKegjAh0ZJA"
      },
      "execution_count": null,
      "outputs": []
    },
    {
      "cell_type": "code",
      "source": [
        "df.replace({'Num Of Products' : {1 : 0, 2 : 1, 3 : 1, 4 : 1 }}, inplace = True )"
      ],
      "metadata": {
        "id": "F3SYvMWJ0vhy"
      },
      "execution_count": null,
      "outputs": []
    },
    {
      "cell_type": "markdown",
      "source": [
        " keterangan encoding Num Of Products menyederhanakan produk yang di ambil menjadi dua kategori yakni;\n",
        "- (1) yang mengambil satu produk\n",
        "- (2) yang mengambil lebih dari satu produk"
      ],
      "metadata": {
        "id": "mVA49i9a1ozi"
      }
    },
    {
      "cell_type": "code",
      "source": [
        "df['Has Credit Card'].value_counts()"
      ],
      "metadata": {
        "id": "McICx65N1lUc"
      },
      "execution_count": null,
      "outputs": []
    },
    {
      "cell_type": "code",
      "source": [
        "df['Is Active Member'].value_counts()"
      ],
      "metadata": {
        "id": "TNZLxl5a2GUV"
      },
      "execution_count": null,
      "outputs": []
    },
    {
      "cell_type": "code",
      "source": [
        "df.loc[(df['Balance'] == 0), 'Churn'].value_counts()"
      ],
      "metadata": {
        "id": "VOesgYHH2Qq2"
      },
      "execution_count": null,
      "outputs": []
    },
    {
      "cell_type": "code",
      "source": [
        "df['zero balance'] = np.where(df['Balance'] > 0, 1, 0)\n",
        "df['zero balance'].hist()"
      ],
      "metadata": {
        "id": "aaP1Y1AB3dkS"
      },
      "execution_count": null,
      "outputs": []
    },
    {
      "cell_type": "code",
      "source": [],
      "metadata": {
        "id": "HAva8ma_4Qdd"
      },
      "execution_count": null,
      "outputs": []
    }
  ]
}