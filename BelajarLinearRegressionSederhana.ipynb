{
  "nbformat": 4,
  "nbformat_minor": 0,
  "metadata": {
    "colab": {
      "provenance": [],
      "authorship_tag": "ABX9TyOl8wepPFmALiPQFxfJ5/nB",
      "include_colab_link": true
    },
    "kernelspec": {
      "name": "python3",
      "display_name": "Python 3"
    },
    "language_info": {
      "name": "python"
    }
  },
  "cells": [
    {
      "cell_type": "markdown",
      "metadata": {
        "id": "view-in-github",
        "colab_type": "text"
      },
      "source": [
        "<a href=\"https://colab.research.google.com/github/MuhammadJundullah/Data-Analytics/blob/main/BelajarLinearRegressionSederhana.ipynb\" target=\"_parent\"><img src=\"https://colab.research.google.com/assets/colab-badge.svg\" alt=\"Open In Colab\"/></a>"
      ]
    },
    {
      "cell_type": "code",
      "execution_count": 2,
      "metadata": {
        "id": "WU5YrGoIZY0q"
      },
      "outputs": [],
      "source": [
        "# library yang digunakan\n",
        "import pandas as pd\n",
        "import numpy as np\n",
        "import matplotlib.pyplot as plt"
      ]
    },
    {
      "cell_type": "markdown",
      "source": [
        "# Regresi linear sederhana"
      ],
      "metadata": {
        "id": "UjNFxc_LZ-04"
      }
    },
    {
      "cell_type": "code",
      "source": [
        "# library yang digun"
      ],
      "metadata": {
        "id": "tOVTQFz8ZuWe"
      },
      "execution_count": null,
      "outputs": []
    }
  ]
}