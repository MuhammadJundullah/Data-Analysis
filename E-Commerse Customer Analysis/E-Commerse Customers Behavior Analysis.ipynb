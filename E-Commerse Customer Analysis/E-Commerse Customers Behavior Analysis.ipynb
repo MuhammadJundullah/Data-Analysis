{
  "nbformat": 4,
  "nbformat_minor": 0,
  "metadata": {
    "colab": {
      "private_outputs": true,
      "provenance": [],
      "authorship_tag": "ABX9TyMEwF9dZXwRlI8IyCUH9PN7",
      "include_colab_link": true
    },
    "kernelspec": {
      "name": "python3",
      "display_name": "Python 3"
    },
    "language_info": {
      "name": "python"
    }
  },
  "cells": [
    {
      "cell_type": "markdown",
      "metadata": {
        "id": "view-in-github",
        "colab_type": "text"
      },
      "source": [
        "<a href=\"https://colab.research.google.com/github/MuhammadJundullah/Data-Analysis/blob/main/E-Commerse%20Customer%20Analysis/E-Commerse%20Customers%20Behavior%20Analysis.ipynb\" target=\"_parent\"><img src=\"https://colab.research.google.com/assets/colab-badge.svg\" alt=\"Open In Colab\"/></a>"
      ]
    },
    {
      "cell_type": "markdown",
      "source": [
        "Use Cases:\n",
        "\n",
        "Segmentasi pelanggan:\n",
        "Analisis dan kategorikan pelanggan berdasarkan demografi, kebiasaan belanja, dan tingkat kepuasan.\n",
        "\n",
        "Analisis Kepuasan:\n",
        "Selidiki faktor-faktor yang mempengaruhi kepuasan pelanggan dan identifikasi area yang perlu ditingkatkan.\n",
        "\n",
        "Strategi Promosi:\n",
        "Menilai dampak diskon terhadap belanja pelanggan dan menyesuaikan strategi promosi.\n",
        "\n",
        "Strategi Retensi:\n",
        "Kembangkan strategi retensi yang ditargetkan dengan memahami kesenjangan waktu sejak pembelian terakhir.\n",
        "\n",
        "Wawasan berbasis kota:\n",
        "Jelajahi variasi regional dalam perilaku pelanggan untuk mengoptimalkan upaya pemasaran berdasarkan tren spesifik lokasi.\n",
        "\n",
        "Catatan: Kumpulan data ini dibuat secara sintetis untuk tujuan ilustrasi, dan kemiripan apa pun dengan individu atau skenario sebenarnya adalah suatu kebetulan."
      ],
      "metadata": {
        "id": "sPnwbk_e6ocV"
      }
    },
    {
      "cell_type": "code",
      "execution_count": null,
      "metadata": {
        "id": "WcNWbY-KhHhO"
      },
      "outputs": [],
      "source": [
        "import pandas as pd\n",
        "import numpy as np\n",
        "import seaborn as sns\n",
        "import matplotlib.pyplot as plt\n",
        "from google.colab import drive\n",
        "drive.mount('/content/gdrive')\n",
        "\n",
        "pd.set_option('display.max_columns', None)\n",
        "sns.set_context('notebook')\n",
        "sns.set_style('whitegrid')\n",
        "sns.set_palette('Spectral')\n",
        "\n",
        "from warnings import filterwarnings\n",
        "filterwarnings('ignore')"
      ]
    },
    {
      "cell_type": "markdown",
      "source": [
        "## Eksplorasi dan pembersihan data"
      ],
      "metadata": {
        "id": "1LKhtSFZ7cj_"
      }
    },
    {
      "cell_type": "code",
      "source": [
        "df = pd.read_csv('/content/gdrive/MyDrive/Colab Notebooks/E-Commerse Customer_Dataset/E-commerce Customer Behavior - Sheet1.csv')\n",
        "df.head()"
      ],
      "metadata": {
        "id": "MBckEVpthyE3"
      },
      "execution_count": null,
      "outputs": []
    },
    {
      "cell_type": "code",
      "source": [
        "df.columns"
      ],
      "metadata": {
        "id": "NaMTL6CTiFfG"
      },
      "execution_count": null,
      "outputs": []
    },
    {
      "cell_type": "code",
      "source": [
        "df.drop(columns=['Customer ID'], inplace=True)"
      ],
      "metadata": {
        "id": "mHNI7LukYqaF"
      },
      "execution_count": null,
      "outputs": []
    },
    {
      "cell_type": "code",
      "source": [
        "df.shape"
      ],
      "metadata": {
        "id": "MJMbC6uFArNA"
      },
      "execution_count": null,
      "outputs": []
    },
    {
      "cell_type": "code",
      "source": [
        "df.isna().sum()"
      ],
      "metadata": {
        "id": "E3PZ5avEiVTx"
      },
      "execution_count": null,
      "outputs": []
    },
    {
      "cell_type": "code",
      "source": [
        "df.dropna(inplace=True)"
      ],
      "metadata": {
        "id": "rt35jdfG0mRe"
      },
      "execution_count": null,
      "outputs": []
    },
    {
      "cell_type": "code",
      "source": [
        "df.duplicated().sum()"
      ],
      "metadata": {
        "id": "PWcMGHjb00U_"
      },
      "execution_count": null,
      "outputs": []
    },
    {
      "cell_type": "code",
      "source": [
        "df.info()"
      ],
      "metadata": {
        "id": "IiY-ekga02FW"
      },
      "execution_count": null,
      "outputs": []
    },
    {
      "cell_type": "code",
      "source": [
        "for dtype, col in (list(zip(df.dtypes, df.columns))):\n",
        "    if dtype == 'int64' or dtype == 'float64':\n",
        "        print(col, dtype)\n",
        "        print(df[col].min(), df[col].max())\n",
        "    else:\n",
        "        print(col, dtype)\n",
        "        print(df[col].unique())\n",
        "\n",
        "    print()\n",
        ""
      ],
      "metadata": {
        "id": "lsAGtrWAP_KQ"
      },
      "execution_count": null,
      "outputs": []
    },
    {
      "cell_type": "markdown",
      "source": [
        "## Analysis and Visualization"
      ],
      "metadata": {
        "id": "Z4N5SaS07iQu"
      }
    },
    {
      "cell_type": "markdown",
      "source": [
        "### Segmentasi Pelanggan berdasarkan demografi"
      ],
      "metadata": {
        "id": "dcqXmWutOpVA"
      }
    },
    {
      "cell_type": "code",
      "source": [
        "df.head(2)"
      ],
      "metadata": {
        "id": "xcatMt0r1itO"
      },
      "execution_count": null,
      "outputs": []
    },
    {
      "cell_type": "code",
      "source": [
        "plt.figure(figsize=(10,5))\n",
        "sns.countplot(x=df[\"City\"])\n",
        "plt.title('Overall Distribution Customers by City')"
      ],
      "metadata": {
        "id": "-1jorwZPaI6D"
      },
      "execution_count": null,
      "outputs": []
    },
    {
      "cell_type": "code",
      "source": [
        "plt.figure(figsize=(12,8))\n",
        "sns.countplot(data=df, x='City', hue='Gender')\n",
        "plt.title('Distribution Customers by Gender on City')"
      ],
      "metadata": {
        "id": "evxW-h0GWnt4"
      },
      "execution_count": null,
      "outputs": []
    },
    {
      "cell_type": "code",
      "source": [
        "plt.figure(figsize=(12,8))\n",
        "sns.countplot(data=df, x='City', hue='Membership Type')\n",
        "plt.title('Distribution Customers by Membership Type')"
      ],
      "metadata": {
        "id": "1znlNV9GzX6q"
      },
      "execution_count": null,
      "outputs": []
    },
    {
      "cell_type": "code",
      "source": [
        "plt.figure(figsize=(12,8))\n",
        "sns.boxplot(data=df, x=\"City\", y=\"Age\")\n",
        "plt.title('Distribution Customers Age by City')"
      ],
      "metadata": {
        "id": "sWJfXzoo0xnh"
      },
      "execution_count": null,
      "outputs": []
    },
    {
      "cell_type": "code",
      "source": [
        "plt.figure(figsize=(12,8))\n",
        "sns.boxplot(data=df, x=\"City\", y=\"Total Spend\")\n",
        "plt.title('Distribution Customers Age by Total Spend')"
      ],
      "metadata": {
        "id": "gngfcTbT1bU4"
      },
      "execution_count": null,
      "outputs": []
    },
    {
      "cell_type": "code",
      "source": [],
      "metadata": {
        "id": "zzR5NFDI39zW"
      },
      "execution_count": null,
      "outputs": []
    }
  ]
}