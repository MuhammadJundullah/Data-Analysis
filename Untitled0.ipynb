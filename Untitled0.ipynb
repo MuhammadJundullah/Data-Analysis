{
  "nbformat": 4,
  "nbformat_minor": 0,
  "metadata": {
    "colab": {
      "private_outputs": true,
      "provenance": [],
      "authorship_tag": "ABX9TyNlBfbHg5DplvYH1Tp9mIwC",
      "include_colab_link": true
    },
    "kernelspec": {
      "name": "python3",
      "display_name": "Python 3"
    },
    "language_info": {
      "name": "python"
    }
  },
  "cells": [
    {
      "cell_type": "markdown",
      "metadata": {
        "id": "view-in-github",
        "colab_type": "text"
      },
      "source": [
        "<a href=\"https://colab.research.google.com/github/MuhammadJundullah/Data-Analysis/blob/main/Untitled0.ipynb\" target=\"_parent\"><img src=\"https://colab.research.google.com/assets/colab-badge.svg\" alt=\"Open In Colab\"/></a>"
      ]
    },
    {
      "cell_type": "markdown",
      "source": [
        "About Dataset\n",
        "\n",
        "Shop Customer Data is a detailed analysis of a imaginative shop's ideal customers. It helps a business to better understand its customers. The owner of a shop gets information about Customers through membership cards.\n",
        "\n",
        "Dataset consists of 2000 records and 8 columns:\n",
        "\n",
        "* Customer ID\n",
        "* Gender\n",
        "* Age\n",
        "* Annual Income\n",
        "* Spending Score - Score assigned by the shop, based on customer behavior and spending nature\n",
        "* Profession\n",
        "* Work Experience - in years\n",
        "* Family Size\n",
        "\n",
        "https://www.kaggle.com/datasets/datascientistanna/customers-dataset"
      ],
      "metadata": {
        "id": "KDon4T47UDZ0"
      }
    },
    {
      "cell_type": "code",
      "source": [
        "import pandas as pd\n",
        "import numpy as np\n",
        "import matplotlib.pyplot as plt\n",
        "import seaborn as sns\n",
        "from google.colab import drive\n",
        "drive.mount(\"/content/gdrive\")\n",
        "\n",
        "pd.set_option('display.max_columns', None)\n",
        "sns.set_context('notebook')\n",
        "sns.set_style('whitegrid')\n",
        "sns.set_palette('Spectral')\n",
        "\n",
        "import warnings\n",
        "warnings.filterwarnings(\"ignore\")"
      ],
      "metadata": {
        "id": "oIcZ0v9dT6Tc"
      },
      "execution_count": null,
      "outputs": []
    },
    {
      "cell_type": "code",
      "source": [
        "df = pd.read_csv(\"/content/gdrive/MyDrive/Colab Notebooks/E-Commerse Customer_Dataset/Customers.csv\")\n",
        "df.head(2)"
      ],
      "metadata": {
        "id": "iPdD0LukT_ND"
      },
      "execution_count": null,
      "outputs": []
    },
    {
      "cell_type": "markdown",
      "source": [
        "# Data Cleaning"
      ],
      "metadata": {
        "id": "LXJ08Qv1URe5"
      }
    },
    {
      "cell_type": "code",
      "source": [
        "df.shape"
      ],
      "metadata": {
        "id": "T4ve71b5UMIx"
      },
      "execution_count": null,
      "outputs": []
    },
    {
      "cell_type": "code",
      "source": [
        "df.info()"
      ],
      "metadata": {
        "id": "HE0F7zuYUUar"
      },
      "execution_count": null,
      "outputs": []
    },
    {
      "cell_type": "code",
      "source": [
        "df.duplicated().sum()"
      ],
      "metadata": {
        "id": "07jStfdmUVvF"
      },
      "execution_count": null,
      "outputs": []
    },
    {
      "cell_type": "code",
      "source": [
        "df.isnull().sum()"
      ],
      "metadata": {
        "id": "u4-pojUrUXl7"
      },
      "execution_count": null,
      "outputs": []
    },
    {
      "cell_type": "code",
      "source": [
        "for dtype, col in (list(zip(df.dtypes, df.columns))):\n",
        "    if dtype == 'int64' or dtype == 'float64':\n",
        "        print(col, dtype)\n",
        "        print(df[col].min(), df[col].max())\n",
        "    else:\n",
        "        print(col, dtype)\n",
        "        print(df[col].unique())\n",
        "\n",
        "    print()"
      ],
      "metadata": {
        "id": "MXcboHpZUY9m"
      },
      "execution_count": null,
      "outputs": []
    },
    {
      "cell_type": "markdown",
      "source": [
        "### Remove columns"
      ],
      "metadata": {
        "id": "6emIr9gcUc6E"
      }
    },
    {
      "cell_type": "code",
      "source": [
        "df.drop(columns=[\"CustomerID\"], inplace=True)\n",
        "df.head(2)"
      ],
      "metadata": {
        "id": "5hMvILsuUa11"
      },
      "execution_count": null,
      "outputs": []
    },
    {
      "cell_type": "code",
      "source": [],
      "metadata": {
        "id": "HQfL02IyUe73"
      },
      "execution_count": null,
      "outputs": []
    }
  ]
}