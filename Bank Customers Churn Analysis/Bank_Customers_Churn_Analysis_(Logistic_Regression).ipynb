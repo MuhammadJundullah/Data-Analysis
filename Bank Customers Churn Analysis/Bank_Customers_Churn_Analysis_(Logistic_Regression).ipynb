{
  "nbformat": 4,
  "nbformat_minor": 0,
  "metadata": {
    "colab": {
      "private_outputs": true,
      "provenance": [],
      "authorship_tag": "ABX9TyMNzu2rL3U3YuQoiDkVmfD4",
      "include_colab_link": true
    },
    "kernelspec": {
      "name": "python3",
      "display_name": "Python 3"
    },
    "language_info": {
      "name": "python"
    }
  },
  "cells": [
    {
      "cell_type": "markdown",
      "metadata": {
        "id": "view-in-github",
        "colab_type": "text"
      },
      "source": [
        "<a href=\"https://colab.research.google.com/github/MuhammadJundullah/Data-Analysis/blob/main/Bank%20Customers%20Churn%20Analysis/Bank_Customers_Churn_Analysis_(Logistic_Regression).ipynb\" target=\"_parent\"><img src=\"https://colab.research.google.com/assets/colab-badge.svg\" alt=\"Open In Colab\"/></a>"
      ]
    },
    {
      "cell_type": "markdown",
      "source": [
        "Dataset Source : https://www.kaggle.com/models/nidhibarao/bank-customer-churn/code"
      ],
      "metadata": {
        "id": "V7z4Ymfan4mH"
      }
    },
    {
      "cell_type": "markdown",
      "source": [
        "# Import Python Library"
      ],
      "metadata": {
        "id": "ppOXkPGvySTB"
      }
    },
    {
      "cell_type": "code",
      "source": [
        "import kagglehub\n",
        "import pandas as pd\n",
        "import numpy as np\n",
        "np.set_printoptions(suppress=True)\n",
        "\n",
        "import matplotlib.pyplot as plt\n",
        "import seaborn as sns"
      ],
      "metadata": {
        "id": "dNRNjoEM4aZR"
      },
      "execution_count": null,
      "outputs": []
    },
    {
      "cell_type": "markdown",
      "source": [
        "# Data Importing"
      ],
      "metadata": {
        "id": "aUBvvE5DsG60"
      }
    },
    {
      "cell_type": "code",
      "execution_count": null,
      "metadata": {
        "id": "CqDUxR91nSQ-"
      },
      "outputs": [],
      "source": [
        "from google.colab import drive\n",
        "drive.mount('/content/drive')"
      ]
    },
    {
      "cell_type": "markdown",
      "source": [
        "# EDA"
      ],
      "metadata": {
        "id": "5O7dRWu1omO9"
      }
    },
    {
      "cell_type": "code",
      "source": [
        "df = pd.read_csv(\"/content/drive/MyDrive/Colab Notebooks/Bank Churn Customers_Dataset/Bank Churn Modelling.csv\")\n",
        "df.head()"
      ],
      "metadata": {
        "id": "ZC2T0NhInYJH"
      },
      "execution_count": null,
      "outputs": []
    },
    {
      "cell_type": "code",
      "source": [
        "df.shape"
      ],
      "metadata": {
        "id": "orPWZXgRnijs"
      },
      "execution_count": null,
      "outputs": []
    },
    {
      "cell_type": "code",
      "source": [
        "df.info()"
      ],
      "metadata": {
        "id": "usboVJu4oQZb"
      },
      "execution_count": null,
      "outputs": []
    },
    {
      "cell_type": "code",
      "source": [
        "df.nunique()"
      ],
      "metadata": {
        "id": "fDKirFYroTx6"
      },
      "execution_count": null,
      "outputs": []
    },
    {
      "cell_type": "code",
      "source": [
        "df.isna().sum()"
      ],
      "metadata": {
        "id": "wOBzyA_boY_p"
      },
      "execution_count": null,
      "outputs": []
    },
    {
      "cell_type": "code",
      "source": [
        "df.duplicated().sum()"
      ],
      "metadata": {
        "id": "R45DUzeNqxPz"
      },
      "execution_count": null,
      "outputs": []
    },
    {
      "cell_type": "code",
      "source": [
        "df.drop(columns=[\"CustomerId\", \"Surname\"], inplace = True)\n",
        "df.head(2)"
      ],
      "metadata": {
        "id": "1vXl9B0oqzu4"
      },
      "execution_count": null,
      "outputs": []
    },
    {
      "cell_type": "markdown",
      "source": [
        "# Data Preprocessing"
      ],
      "metadata": {
        "id": "HDAD_zfmr8vv"
      }
    },
    {
      "cell_type": "code",
      "source": [
        "df[\"Geography\"].value_counts()"
      ],
      "metadata": {
        "id": "x6SOf5g9rgCk"
      },
      "execution_count": null,
      "outputs": []
    },
    {
      "cell_type": "code",
      "source": [
        "Geography_enc = pd.get_dummies(df['Geography']).astype(int)\n",
        "Geography_enc.head()"
      ],
      "metadata": {
        "id": "afG-2G0fdBLg"
      },
      "execution_count": null,
      "outputs": []
    },
    {
      "cell_type": "code",
      "source": [
        "geography_enc = pd.get_dummies(df['Geography'], prefix = 'geo').astype(int)\n",
        "df = pd.concat([df, geography_enc],axis = 1)\n",
        "df.head(2)"
      ],
      "metadata": {
        "id": "2qztbUPxgfhf"
      },
      "execution_count": null,
      "outputs": []
    },
    {
      "cell_type": "code",
      "source": [
        "df.drop(columns=['Geography'], inplace = True)\n",
        "df.head(2)"
      ],
      "metadata": {
        "id": "Bho6P4keg0_v"
      },
      "execution_count": null,
      "outputs": []
    },
    {
      "cell_type": "code",
      "source": [
        "df['Gender'].value_counts()"
      ],
      "metadata": {
        "id": "LcgcUwp-0Hlg"
      },
      "execution_count": null,
      "outputs": []
    },
    {
      "cell_type": "code",
      "source": [
        "gender_enc = pd.get_dummies(df['Gender']).astype(int)\n",
        "df = pd.concat([df, gender_enc], axis = 1)"
      ],
      "metadata": {
        "id": "5pKnmctp0ObX"
      },
      "execution_count": null,
      "outputs": []
    },
    {
      "cell_type": "code",
      "source": [
        "df.drop(columns=[\"Gender\"], inplace = True)\n",
        "df.head(2)"
      ],
      "metadata": {
        "id": "8fUQtXlf-DgI"
      },
      "execution_count": null,
      "outputs": []
    },
    {
      "cell_type": "code",
      "source": [
        "df['Num Of Products'].value_counts()"
      ],
      "metadata": {
        "id": "nhKegjAh0ZJA"
      },
      "execution_count": null,
      "outputs": []
    },
    {
      "cell_type": "code",
      "source": [
        "df.replace({'Num Of Products' : {1 : 0, 2 : 1, 3 : 1, 4 : 1 }}, inplace = True )"
      ],
      "metadata": {
        "id": "F3SYvMWJ0vhy"
      },
      "execution_count": null,
      "outputs": []
    },
    {
      "cell_type": "markdown",
      "source": [
        " keterangan encoding Num Of Products menyederhanakan produk yang di ambil menjadi dua kategori yakni;\n",
        "- (1) yang mengambil satu produk\n",
        "- (2) yang mengambil lebih dari satu produk"
      ],
      "metadata": {
        "id": "mVA49i9a1ozi"
      }
    },
    {
      "cell_type": "code",
      "source": [
        "df['Has Credit Card'].value_counts()"
      ],
      "metadata": {
        "id": "McICx65N1lUc"
      },
      "execution_count": null,
      "outputs": []
    },
    {
      "cell_type": "code",
      "source": [
        "df['Is Active Member'].value_counts()"
      ],
      "metadata": {
        "id": "TNZLxl5a2GUV"
      },
      "execution_count": null,
      "outputs": []
    },
    {
      "cell_type": "code",
      "source": [
        "df.head(2)"
      ],
      "metadata": {
        "id": "d8P-Gu_c_1PB"
      },
      "execution_count": null,
      "outputs": []
    },
    {
      "cell_type": "code",
      "source": [
        "sns.histplot(data=df, x='Balance', hue=\"Churn\", kde=True)\n",
        "plt.title('Balance Distribution (Saldo Nasabah)')\n",
        "plt.xlabel('Balance')\n",
        "plt.ylabel('Frekuensi')\n",
        "plt.show()"
      ],
      "metadata": {
        "id": "ViumN2tEA2JA"
      },
      "execution_count": null,
      "outputs": []
    },
    {
      "cell_type": "code",
      "source": [
        "df.loc[(df['Balance'] == 0), 'Churn'].value_counts()"
      ],
      "metadata": {
        "id": "VOesgYHH2Qq2"
      },
      "execution_count": null,
      "outputs": []
    },
    {
      "cell_type": "code",
      "source": [
        "df['zero balance'] = np.where(df['Balance'] > 0, 1, 0)\n",
        "df['zero balance'].value_counts()"
      ],
      "metadata": {
        "id": "6xBTmuIi_zPa"
      },
      "execution_count": null,
      "outputs": []
    },
    {
      "cell_type": "code",
      "source": [
        "df.drop()\n",
        "df.head(2)"
      ],
      "metadata": {
        "id": "-jYMSfY5AEyT"
      },
      "execution_count": null,
      "outputs": []
    },
    {
      "cell_type": "code",
      "source": [
        "df.describe()"
      ],
      "metadata": {
        "id": "dtfCOGMN107Q"
      },
      "execution_count": null,
      "outputs": []
    },
    {
      "cell_type": "code",
      "source": [
        "sns.histplot(data=df, x='Estimated Salary', hue=\"Churn\", kde=True)\n",
        "plt.title('Estimated Salary Distribution')\n",
        "plt.xlabel('Estimated Salary')\n",
        "plt.ylabel('Frekuensi')\n",
        "plt.show()"
      ],
      "metadata": {
        "id": "V1in0Xi4CF-U"
      },
      "execution_count": null,
      "outputs": []
    },
    {
      "cell_type": "code",
      "source": [
        "bins = np.linspace(min(df['Estimated Salary']), max(df['Estimated Salary']), 4)\n",
        "bins"
      ],
      "metadata": {
        "id": "BZyI04D-C8rv"
      },
      "execution_count": null,
      "outputs": []
    },
    {
      "cell_type": "code",
      "source": [
        "df_combined[\"Estimated Salary_binned\"] = pd.cut(df[\"Estimated Salary\"], bins=bins, labels=[1, 2, 3])\n",
        "df_combined.drop(columns=[\"Estimated Salary\"])"
      ],
      "metadata": {
        "id": "AlY0C5Kx3Pj7"
      },
      "execution_count": null,
      "outputs": []
    },
    {
      "cell_type": "code",
      "source": [],
      "metadata": {
        "id": "tDhZduBw4lK1"
      },
      "execution_count": null,
      "outputs": []
    }
  ]
}