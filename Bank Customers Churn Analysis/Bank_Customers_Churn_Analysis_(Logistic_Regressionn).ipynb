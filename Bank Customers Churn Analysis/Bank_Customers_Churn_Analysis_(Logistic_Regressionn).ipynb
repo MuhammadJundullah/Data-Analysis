{
  "nbformat": 4,
  "nbformat_minor": 0,
  "metadata": {
    "colab": {
      "private_outputs": true,
      "provenance": [],
      "authorship_tag": "ABX9TyMnbPwhMNqcPYUoPMUo8sSu",
      "include_colab_link": true
    },
    "kernelspec": {
      "name": "python3",
      "display_name": "Python 3"
    },
    "language_info": {
      "name": "python"
    }
  },
  "cells": [
    {
      "cell_type": "markdown",
      "metadata": {
        "id": "view-in-github",
        "colab_type": "text"
      },
      "source": [
        "<a href=\"https://colab.research.google.com/github/MuhammadJundullah/Data-Analysis/blob/main/Bank%20Customers%20Churn%20Analysis/Bank_Customers_Churn_Analysis_(Logistic_Regressionn).ipynb\" target=\"_parent\"><img src=\"https://colab.research.google.com/assets/colab-badge.svg\" alt=\"Open In Colab\"/></a>"
      ]
    },
    {
      "cell_type": "markdown",
      "source": [
        "Dataset Source : https://www.kaggle.com/models/nidhibarao/bank-customer-churn/code"
      ],
      "metadata": {
        "id": "V7z4Ymfan4mH"
      }
    },
    {
      "cell_type": "code",
      "source": [
        "import kagglehub\n",
        "import pandas as pd\n",
        "import numpy as np\n",
        "np.set_printoptions(suppress=True)\n",
        "\n",
        "import matplotlib.pyplot as plt\n",
        "import seaborn as sns"
      ],
      "metadata": {
        "id": "dNRNjoEM4aZR"
      },
      "execution_count": null,
      "outputs": []
    },
    {
      "cell_type": "markdown",
      "source": [
        "# Data Importing"
      ],
      "metadata": {
        "id": "aUBvvE5DsG60"
      }
    },
    {
      "cell_type": "code",
      "execution_count": null,
      "metadata": {
        "id": "CqDUxR91nSQ-"
      },
      "outputs": [],
      "source": [
        "from google.colab import drive\n",
        "drive.mount('/content/drive')"
      ]
    },
    {
      "cell_type": "markdown",
      "source": [
        "# EDA"
      ],
      "metadata": {
        "id": "5O7dRWu1omO9"
      }
    },
    {
      "cell_type": "code",
      "source": [
        "df = pd.read_csv(\"/content/drive/MyDrive/Colab Notebooks/Bank Churn Customers_Dataset/Bank Churn Modelling.csv\")\n",
        "df.head()"
      ],
      "metadata": {
        "id": "ZC2T0NhInYJH"
      },
      "execution_count": null,
      "outputs": []
    },
    {
      "cell_type": "code",
      "source": [
        "df.shape"
      ],
      "metadata": {
        "id": "orPWZXgRnijs"
      },
      "execution_count": null,
      "outputs": []
    },
    {
      "cell_type": "code",
      "source": [
        "df.info()"
      ],
      "metadata": {
        "id": "usboVJu4oQZb"
      },
      "execution_count": null,
      "outputs": []
    },
    {
      "cell_type": "code",
      "source": [
        "df.nunique()"
      ],
      "metadata": {
        "id": "fDKirFYroTx6"
      },
      "execution_count": null,
      "outputs": []
    },
    {
      "cell_type": "code",
      "source": [
        "df.isna().sum()"
      ],
      "metadata": {
        "id": "wOBzyA_boY_p"
      },
      "execution_count": null,
      "outputs": []
    },
    {
      "cell_type": "code",
      "source": [
        "df.duplicated().sum()"
      ],
      "metadata": {
        "id": "R45DUzeNqxPz"
      },
      "execution_count": null,
      "outputs": []
    },
    {
      "cell_type": "code",
      "source": [
        "df.drop(columns=[\"CustomerId\", \"Surname\"], inplace = True)\n",
        "df.head(2)"
      ],
      "metadata": {
        "id": "1vXl9B0oqzu4"
      },
      "execution_count": null,
      "outputs": []
    },
    {
      "cell_type": "markdown",
      "source": [
        "# Data Preprocessing"
      ],
      "metadata": {
        "id": "HDAD_zfmr8vv"
      }
    },
    {
      "cell_type": "markdown",
      "source": [
        "## Data Encoding\n"
      ],
      "metadata": {
        "id": "MVT2-w8tFdgR"
      }
    },
    {
      "cell_type": "code",
      "source": [
        "df[\"Geography\"].value_counts()"
      ],
      "metadata": {
        "id": "x6SOf5g9rgCk"
      },
      "execution_count": null,
      "outputs": []
    },
    {
      "cell_type": "code",
      "source": [
        "geography_enc = pd.get_dummies(df['Geography'], prefix = 'geo').astype(int)\n",
        "df = pd.concat([df, geography_enc],axis = 1)\n",
        "df.drop(columns=['Geography'], inplace = True)\n",
        "df.head(2)"
      ],
      "metadata": {
        "id": "2qztbUPxgfhf"
      },
      "execution_count": null,
      "outputs": []
    },
    {
      "cell_type": "code",
      "source": [
        "df['Gender'].value_counts()"
      ],
      "metadata": {
        "id": "LcgcUwp-0Hlg"
      },
      "execution_count": null,
      "outputs": []
    },
    {
      "cell_type": "code",
      "source": [
        "gender_enc = pd.get_dummies(df['Gender']).astype(int)\n",
        "df = pd.concat([df, gender_enc], axis = 1)\n",
        "df.drop(columns=[\"Gender\"], inplace = True)\n",
        "df.head(2)"
      ],
      "metadata": {
        "id": "5pKnmctp0ObX"
      },
      "execution_count": null,
      "outputs": []
    },
    {
      "cell_type": "code",
      "source": [
        "df['Num Of Products'].value_counts()"
      ],
      "metadata": {
        "id": "nhKegjAh0ZJA"
      },
      "execution_count": null,
      "outputs": []
    },
    {
      "cell_type": "code",
      "source": [
        "nop_enc = pd.get_dummies(df['Num Of Products'], prefix = 'nop').astype(int)\n",
        "df = pd.concat([df, nop_enc],axis = 1)\n",
        "df.drop(columns=['Num Of Products'], inplace = True)\n",
        "df.head(2)"
      ],
      "metadata": {
        "id": "F3SYvMWJ0vhy"
      },
      "execution_count": null,
      "outputs": []
    },
    {
      "cell_type": "code",
      "source": [
        "df['Tenure'].value_counts()"
      ],
      "metadata": {
        "id": "radzLW9dM_rr"
      },
      "execution_count": null,
      "outputs": []
    },
    {
      "cell_type": "code",
      "source": [
        "nop_enc = pd.get_dummies(df['Tenure'], prefix = 'Ten').astype(int)\n",
        "df = pd.concat([df, nop_enc],axis = 1)\n",
        "df.drop(columns=['Tenure'], inplace = True)\n",
        "df.head(2)"
      ],
      "metadata": {
        "id": "3z0A2VuxNFb6"
      },
      "execution_count": null,
      "outputs": []
    },
    {
      "cell_type": "code",
      "source": [
        "df['Has Credit Card'].value_counts()"
      ],
      "metadata": {
        "id": "McICx65N1lUc"
      },
      "execution_count": null,
      "outputs": []
    },
    {
      "cell_type": "code",
      "source": [
        "df['Is Active Member'].value_counts()"
      ],
      "metadata": {
        "id": "TNZLxl5a2GUV"
      },
      "execution_count": null,
      "outputs": []
    },
    {
      "cell_type": "code",
      "source": [
        "# df['Zero Balance'] = np.where(df['Balance'] > 0, 1, 0)\n",
        "# df.drop(columns=['Balance'], inplace = True)\n",
        "# df.head(2)"
      ],
      "metadata": {
        "id": "mUMaOGUHOOIk"
      },
      "execution_count": null,
      "outputs": []
    },
    {
      "cell_type": "markdown",
      "source": [
        "## Data Standarization"
      ],
      "metadata": {
        "id": "8PWrqBQTG6Sq"
      }
    },
    {
      "cell_type": "code",
      "source": [
        "from sklearn.preprocessing import StandardScaler"
      ],
      "metadata": {
        "id": "wFaJGpt3HhB6"
      },
      "execution_count": null,
      "outputs": []
    },
    {
      "cell_type": "code",
      "source": [
        "df.describe()"
      ],
      "metadata": {
        "id": "dtfCOGMN107Q"
      },
      "execution_count": null,
      "outputs": []
    },
    {
      "cell_type": "code",
      "source": [
        "plt.figure(figsize=(10, 6))\n",
        "sns.histplot(data=df, x='Balance', hue=\"Churn\", kde=True)\n",
        "plt.title('Balance Distribution (Saldo Nasabah)')\n",
        "plt.xlabel('Balance')\n",
        "plt.ylabel('Frekuensi')\n",
        "plt.show()"
      ],
      "metadata": {
        "id": "ViumN2tEA2JA"
      },
      "execution_count": null,
      "outputs": []
    },
    {
      "cell_type": "code",
      "source": [
        "scaler = StandardScaler()\n",
        "df[\"Balance\"] = scaler.fit_transform(df[[\"Balance\"]])\n",
        "df.head(2)"
      ],
      "metadata": {
        "id": "iF_bnoHyH0VE"
      },
      "execution_count": null,
      "outputs": []
    },
    {
      "cell_type": "code",
      "source": [
        "plt.figure(figsize=(10, 6))\n",
        "sns.histplot(data=df, x='Estimated Salary', hue=\"Churn\", kde=True)\n",
        "plt.title('Estimated Salary Distribution')\n",
        "plt.xlabel('Estimated Salary')\n",
        "plt.ylabel('Frekuensi')\n",
        "plt.show()"
      ],
      "metadata": {
        "id": "V1in0Xi4CF-U"
      },
      "execution_count": null,
      "outputs": []
    },
    {
      "cell_type": "code",
      "source": [
        "df[\"Estimated Salary\"] = scaler.fit_transform(df[[\"Estimated Salary\"]])\n",
        "df.head(2)"
      ],
      "metadata": {
        "id": "tDhZduBw4lK1"
      },
      "execution_count": null,
      "outputs": []
    },
    {
      "cell_type": "code",
      "source": [
        "plt.figure(figsize=(10, 6))\n",
        "sns.histplot(data=df, x='Age', hue=\"Churn\", kde=True)\n",
        "plt.title('Age Distribution')\n",
        "plt.xlabel('Age')\n",
        "plt.ylabel('Frekuensi')\n",
        "plt.show()"
      ],
      "metadata": {
        "id": "aOc5OV_NIP3A"
      },
      "execution_count": null,
      "outputs": []
    },
    {
      "cell_type": "code",
      "source": [
        "df[\"Age\"] = scaler.fit_transform(df[[\"Age\"]])\n",
        "df.head(2)"
      ],
      "metadata": {
        "id": "bJ2-NZ8aIW6K"
      },
      "execution_count": null,
      "outputs": []
    },
    {
      "cell_type": "code",
      "source": [
        "plt.figure(figsize=(10, 6))\n",
        "sns.histplot(data=df, x='CreditScore', hue=\"Churn\", kde=True)\n",
        "plt.title('Credit Score Distribution')\n",
        "plt.xlabel('Credit Score')\n",
        "plt.ylabel('Frekuensi')\n",
        "plt.show()"
      ],
      "metadata": {
        "id": "O74JOTsEImtC"
      },
      "execution_count": null,
      "outputs": []
    },
    {
      "cell_type": "code",
      "source": [
        "df[\"CreditScore\"] = scaler.fit_transform(df[[\"CreditScore\"]])\n",
        "df.head(2)"
      ],
      "metadata": {
        "id": "aK1vNhToJDBf"
      },
      "execution_count": null,
      "outputs": []
    },
    {
      "cell_type": "markdown",
      "source": [
        "# Building Model"
      ],
      "metadata": {
        "id": "G6wrzDGFKp4U"
      }
    },
    {
      "cell_type": "code",
      "source": [
        "from sklearn.model_selection import train_test_split\n",
        "from sklearn.linear_model import LogisticRegression\n",
        "from sklearn.metrics import accuracy_score, confusion_matrix, classification_report"
      ],
      "metadata": {
        "id": "PCPJYbz5KS3Q"
      },
      "execution_count": null,
      "outputs": []
    },
    {
      "cell_type": "code",
      "source": [
        "x = df.drop(columns=[\"Churn\"])\n",
        "y = df[\"Churn\"]"
      ],
      "metadata": {
        "id": "UswBKQRaLSBk"
      },
      "execution_count": null,
      "outputs": []
    },
    {
      "cell_type": "code",
      "source": [
        "# membagi data test dan training\n",
        "X_train, X_test, y_train, y_test = train_test_split(x, y, test_size=0.3, random_state=42)"
      ],
      "metadata": {
        "id": "YnpYw5x_LFs2"
      },
      "execution_count": null,
      "outputs": []
    },
    {
      "cell_type": "code",
      "source": [
        "model = LogisticRegression()"
      ],
      "metadata": {
        "id": "y45m6I0qLcV6"
      },
      "execution_count": null,
      "outputs": []
    },
    {
      "cell_type": "code",
      "source": [
        "model.fit(X_train, y_train)"
      ],
      "metadata": {
        "id": "Ee-R5itoLgOV"
      },
      "execution_count": null,
      "outputs": []
    },
    {
      "cell_type": "code",
      "source": [
        "y_pred = model.predict(X_test)"
      ],
      "metadata": {
        "id": "VuK5y0tzLjUA"
      },
      "execution_count": null,
      "outputs": []
    },
    {
      "cell_type": "code",
      "source": [
        "print(f\"Akurasi: {accuracy_score(y_test, y_pred)}\")"
      ],
      "metadata": {
        "id": "E8-0xvzQLwh4"
      },
      "execution_count": null,
      "outputs": []
    },
    {
      "cell_type": "code",
      "source": [
        "print(confusion_matrix(y_test, y_pred))"
      ],
      "metadata": {
        "id": "1aIEllLwL11B"
      },
      "execution_count": null,
      "outputs": []
    },
    {
      "cell_type": "code",
      "source": [
        "print(classification_report(y_test, y_pred))"
      ],
      "metadata": {
        "id": "49tA5GlpL31g"
      },
      "execution_count": null,
      "outputs": []
    },
    {
      "cell_type": "markdown",
      "source": [
        "# Random Under Sampling"
      ],
      "metadata": {
        "id": "H4Q9xZpxWE1F"
      }
    },
    {
      "cell_type": "code",
      "source": [
        "from imblearn.under_sampling import RandomUnderSampler\n",
        "rus = RandomUnderSampler(random_state = 2529)\n"
      ],
      "metadata": {
        "id": "jayJHjEBL5_h"
      },
      "execution_count": null,
      "outputs": []
    },
    {
      "cell_type": "code",
      "source": [
        "x_rus, y_rus = rus.fit_resample(x, y)\n",
        "x_rus.shape, y_rus.shape, x.shape, y.shape"
      ],
      "metadata": {
        "id": "AP2khtNAWJNE"
      },
      "execution_count": null,
      "outputs": []
    },
    {
      "cell_type": "code",
      "source": [
        "# membagi data test dan training\n",
        "X_train_rus, X_test_rus, y_train_rus, y_test_rus = train_test_split(x_rus, y_rus, test_size=0.3, random_state=42)"
      ],
      "metadata": {
        "id": "jD9E9L4aWyg_"
      },
      "execution_count": null,
      "outputs": []
    },
    {
      "cell_type": "code",
      "source": [
        "model.fit(X_train_rus, y_train_rus)\n",
        "y_pred_rus = model.predict(X_test_rus)"
      ],
      "metadata": {
        "id": "DGs6qk7eXS36"
      },
      "execution_count": null,
      "outputs": []
    },
    {
      "cell_type": "code",
      "source": [
        "print(f\"Akurasi: {accuracy_score(y_test_rus, y_pred_rus)}\")"
      ],
      "metadata": {
        "id": "Jm_y7w5bXv-_"
      },
      "execution_count": null,
      "outputs": []
    },
    {
      "cell_type": "code",
      "source": [
        "print(confusion_matrix(y_test_rus, y_pred_rus))"
      ],
      "metadata": {
        "id": "ZwRg59tQXrya"
      },
      "execution_count": null,
      "outputs": []
    },
    {
      "cell_type": "code",
      "source": [
        "print(classification_report(y_test_rus, y_pred_rus))"
      ],
      "metadata": {
        "id": "O5i5XGJeXg_T"
      },
      "execution_count": null,
      "outputs": []
    },
    {
      "cell_type": "code",
      "source": [
        "pip install shap"
      ],
      "metadata": {
        "id": "YDcFLMVPfSZX"
      },
      "execution_count": null,
      "outputs": []
    },
    {
      "cell_type": "code",
      "source": [
        "import shap\n",
        "\n",
        "# Misalnya, model adalah model yang sudah dilatih\n",
        "explainer = shap.Explainer(model, X_train_rus)\n",
        "shap_values = explainer.shap_values(X_train_rus)\n",
        "\n",
        "# Plot global feature importance\n",
        "shap.summary_plot(shap_values, X_train_rus)\n"
      ],
      "metadata": {
        "id": "Fz7afH6ce3rf"
      },
      "execution_count": null,
      "outputs": []
    },
    {
      "cell_type": "code",
      "source": [
        "coef = model.coef_[0]  # Koefisien dari model\n",
        "feature_importance = pd.DataFrame({'Fitur': X_train_rus.columns, 'Koefisien': coef})\n",
        "feature_importance.sort_values(by='Koefisien', ascending=False, inplace=True)\n",
        "feature_importance.head()"
      ],
      "metadata": {
        "id": "hZXY24gNfO4W"
      },
      "execution_count": null,
      "outputs": []
    },
    {
      "cell_type": "code",
      "source": [
        "feature_importance.tail()"
      ],
      "metadata": {
        "id": "MrUhcXt0yK2Y"
      },
      "execution_count": null,
      "outputs": []
    },
    {
      "cell_type": "code",
      "source": [],
      "metadata": {
        "id": "kOTenjaHy3Br"
      },
      "execution_count": null,
      "outputs": []
    }
  ]
}