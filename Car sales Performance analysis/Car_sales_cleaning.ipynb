{
  "nbformat": 4,
  "nbformat_minor": 0,
  "metadata": {
    "colab": {
      "provenance": [],
      "authorship_tag": "ABX9TyOal7UZgotM9F/KAS8Quiwu",
      "include_colab_link": true
    },
    "kernelspec": {
      "name": "python3",
      "display_name": "Python 3"
    },
    "language_info": {
      "name": "python"
    }
  },
  "cells": [
    {
      "cell_type": "markdown",
      "metadata": {
        "id": "view-in-github",
        "colab_type": "text"
      },
      "source": [
        "<a href=\"https://colab.research.google.com/github/MuhammadJundullah/Data-Analytics/blob/main/Car%20sales%20Performance%20analysis/Car_sales_cleaning.ipynb\" target=\"_parent\"><img src=\"https://colab.research.google.com/assets/colab-badge.svg\" alt=\"Open In Colab\"/></a>"
      ]
    },
    {
      "cell_type": "code",
      "execution_count": 23,
      "metadata": {
        "colab": {
          "base_uri": "https://localhost:8080/"
        },
        "id": "eJtfle7iFTYc",
        "outputId": "1cf36f6b-67e1-40c0-cd5d-ea589575ffd4"
      },
      "outputs": [
        {
          "output_type": "stream",
          "name": "stdout",
          "text": [
            "Drive already mounted at /content/gdrive; to attempt to forcibly remount, call drive.mount(\"/content/gdrive\", force_remount=True).\n"
          ]
        }
      ],
      "source": [
        "import pandas as pd\n",
        "import matplotlib.pyplot as plt\n",
        "from google.colab import drive\n",
        "import seaborn as sns\n",
        "drive.mount ('/content/gdrive')\n",
        "import warnings\n",
        "warnings.filterwarnings('ignore')"
      ]
    },
    {
      "cell_type": "code",
      "source": [
        "df = pd.read_csv('/content/gdrive/MyDrive/Colab Notebooks/Car_sales/Car_Sales.csv')\n",
        "df.head()"
      ],
      "metadata": {
        "colab": {
          "base_uri": "https://localhost:8080/",
          "height": 289
        },
        "id": "ldBIFnXvFrct",
        "outputId": "f8ffe584-4dc9-4a08-bbd7-f06e0284d26b"
      },
      "execution_count": 2,
      "outputs": [
        {
          "output_type": "execute_result",
          "data": {
            "text/plain": [
              "         Car_id      Date Customer Name Gender  Annual Income  \\\n",
              "0  C_CND_000001  1/2/2022     Geraldine   Male          13500   \n",
              "1  C_CND_000002  1/2/2022           Gia   Male        1480000   \n",
              "2  C_CND_000003  1/2/2022        Gianna   Male        1035000   \n",
              "3  C_CND_000004  1/2/2022       Giselle   Male          13500   \n",
              "4  C_CND_000005  1/2/2022         Grace   Male        1465000   \n",
              "\n",
              "                           Dealer_Name   Company       Model  \\\n",
              "0  Buddy Storbeck's Diesel Service Inc      Ford  Expedition   \n",
              "1                     C & M Motors Inc     Dodge     Durango   \n",
              "2                          Capitol KIA  Cadillac    Eldorado   \n",
              "3               Chrysler of Tri-Cities    Toyota      Celica   \n",
              "4                    Chrysler Plymouth     Acura          TL   \n",
              "\n",
              "                      Engine Transmission       Color  Price ($)  Dealer_No   \\\n",
              "0  DoubleÂ Overhead Camshaft         Auto       Black      26000  06457-3834   \n",
              "1  DoubleÂ Overhead Camshaft         Auto       Black      19000  60504-7114   \n",
              "2          Overhead Camshaft       Manual         Red      31500  38701-8047   \n",
              "3          Overhead Camshaft       Manual  Pale White      14000  99301-3882   \n",
              "4  DoubleÂ Overhead Camshaft         Auto         Red      24500  53546-9427   \n",
              "\n",
              "  Body Style    Phone Dealer_Region  \n",
              "0        SUV  8264678    Middletown  \n",
              "1        SUV  6848189        Aurora  \n",
              "2  Passenger  7298798    Greenville  \n",
              "3        SUV  6257557         Pasco  \n",
              "4  Hatchback  7081483    Janesville  "
            ],
            "text/html": [
              "\n",
              "  <div id=\"df-53dcc7c5-e386-45cf-90d5-e491195a596a\" class=\"colab-df-container\">\n",
              "    <div>\n",
              "<style scoped>\n",
              "    .dataframe tbody tr th:only-of-type {\n",
              "        vertical-align: middle;\n",
              "    }\n",
              "\n",
              "    .dataframe tbody tr th {\n",
              "        vertical-align: top;\n",
              "    }\n",
              "\n",
              "    .dataframe thead th {\n",
              "        text-align: right;\n",
              "    }\n",
              "</style>\n",
              "<table border=\"1\" class=\"dataframe\">\n",
              "  <thead>\n",
              "    <tr style=\"text-align: right;\">\n",
              "      <th></th>\n",
              "      <th>Car_id</th>\n",
              "      <th>Date</th>\n",
              "      <th>Customer Name</th>\n",
              "      <th>Gender</th>\n",
              "      <th>Annual Income</th>\n",
              "      <th>Dealer_Name</th>\n",
              "      <th>Company</th>\n",
              "      <th>Model</th>\n",
              "      <th>Engine</th>\n",
              "      <th>Transmission</th>\n",
              "      <th>Color</th>\n",
              "      <th>Price ($)</th>\n",
              "      <th>Dealer_No</th>\n",
              "      <th>Body Style</th>\n",
              "      <th>Phone</th>\n",
              "      <th>Dealer_Region</th>\n",
              "    </tr>\n",
              "  </thead>\n",
              "  <tbody>\n",
              "    <tr>\n",
              "      <th>0</th>\n",
              "      <td>C_CND_000001</td>\n",
              "      <td>1/2/2022</td>\n",
              "      <td>Geraldine</td>\n",
              "      <td>Male</td>\n",
              "      <td>13500</td>\n",
              "      <td>Buddy Storbeck's Diesel Service Inc</td>\n",
              "      <td>Ford</td>\n",
              "      <td>Expedition</td>\n",
              "      <td>DoubleÂ Overhead Camshaft</td>\n",
              "      <td>Auto</td>\n",
              "      <td>Black</td>\n",
              "      <td>26000</td>\n",
              "      <td>06457-3834</td>\n",
              "      <td>SUV</td>\n",
              "      <td>8264678</td>\n",
              "      <td>Middletown</td>\n",
              "    </tr>\n",
              "    <tr>\n",
              "      <th>1</th>\n",
              "      <td>C_CND_000002</td>\n",
              "      <td>1/2/2022</td>\n",
              "      <td>Gia</td>\n",
              "      <td>Male</td>\n",
              "      <td>1480000</td>\n",
              "      <td>C &amp; M Motors Inc</td>\n",
              "      <td>Dodge</td>\n",
              "      <td>Durango</td>\n",
              "      <td>DoubleÂ Overhead Camshaft</td>\n",
              "      <td>Auto</td>\n",
              "      <td>Black</td>\n",
              "      <td>19000</td>\n",
              "      <td>60504-7114</td>\n",
              "      <td>SUV</td>\n",
              "      <td>6848189</td>\n",
              "      <td>Aurora</td>\n",
              "    </tr>\n",
              "    <tr>\n",
              "      <th>2</th>\n",
              "      <td>C_CND_000003</td>\n",
              "      <td>1/2/2022</td>\n",
              "      <td>Gianna</td>\n",
              "      <td>Male</td>\n",
              "      <td>1035000</td>\n",
              "      <td>Capitol KIA</td>\n",
              "      <td>Cadillac</td>\n",
              "      <td>Eldorado</td>\n",
              "      <td>Overhead Camshaft</td>\n",
              "      <td>Manual</td>\n",
              "      <td>Red</td>\n",
              "      <td>31500</td>\n",
              "      <td>38701-8047</td>\n",
              "      <td>Passenger</td>\n",
              "      <td>7298798</td>\n",
              "      <td>Greenville</td>\n",
              "    </tr>\n",
              "    <tr>\n",
              "      <th>3</th>\n",
              "      <td>C_CND_000004</td>\n",
              "      <td>1/2/2022</td>\n",
              "      <td>Giselle</td>\n",
              "      <td>Male</td>\n",
              "      <td>13500</td>\n",
              "      <td>Chrysler of Tri-Cities</td>\n",
              "      <td>Toyota</td>\n",
              "      <td>Celica</td>\n",
              "      <td>Overhead Camshaft</td>\n",
              "      <td>Manual</td>\n",
              "      <td>Pale White</td>\n",
              "      <td>14000</td>\n",
              "      <td>99301-3882</td>\n",
              "      <td>SUV</td>\n",
              "      <td>6257557</td>\n",
              "      <td>Pasco</td>\n",
              "    </tr>\n",
              "    <tr>\n",
              "      <th>4</th>\n",
              "      <td>C_CND_000005</td>\n",
              "      <td>1/2/2022</td>\n",
              "      <td>Grace</td>\n",
              "      <td>Male</td>\n",
              "      <td>1465000</td>\n",
              "      <td>Chrysler Plymouth</td>\n",
              "      <td>Acura</td>\n",
              "      <td>TL</td>\n",
              "      <td>DoubleÂ Overhead Camshaft</td>\n",
              "      <td>Auto</td>\n",
              "      <td>Red</td>\n",
              "      <td>24500</td>\n",
              "      <td>53546-9427</td>\n",
              "      <td>Hatchback</td>\n",
              "      <td>7081483</td>\n",
              "      <td>Janesville</td>\n",
              "    </tr>\n",
              "  </tbody>\n",
              "</table>\n",
              "</div>\n",
              "    <div class=\"colab-df-buttons\">\n",
              "\n",
              "  <div class=\"colab-df-container\">\n",
              "    <button class=\"colab-df-convert\" onclick=\"convertToInteractive('df-53dcc7c5-e386-45cf-90d5-e491195a596a')\"\n",
              "            title=\"Convert this dataframe to an interactive table.\"\n",
              "            style=\"display:none;\">\n",
              "\n",
              "  <svg xmlns=\"http://www.w3.org/2000/svg\" height=\"24px\" viewBox=\"0 -960 960 960\">\n",
              "    <path d=\"M120-120v-720h720v720H120Zm60-500h600v-160H180v160Zm220 220h160v-160H400v160Zm0 220h160v-160H400v160ZM180-400h160v-160H180v160Zm440 0h160v-160H620v160ZM180-180h160v-160H180v160Zm440 0h160v-160H620v160Z\"/>\n",
              "  </svg>\n",
              "    </button>\n",
              "\n",
              "  <style>\n",
              "    .colab-df-container {\n",
              "      display:flex;\n",
              "      gap: 12px;\n",
              "    }\n",
              "\n",
              "    .colab-df-convert {\n",
              "      background-color: #E8F0FE;\n",
              "      border: none;\n",
              "      border-radius: 50%;\n",
              "      cursor: pointer;\n",
              "      display: none;\n",
              "      fill: #1967D2;\n",
              "      height: 32px;\n",
              "      padding: 0 0 0 0;\n",
              "      width: 32px;\n",
              "    }\n",
              "\n",
              "    .colab-df-convert:hover {\n",
              "      background-color: #E2EBFA;\n",
              "      box-shadow: 0px 1px 2px rgba(60, 64, 67, 0.3), 0px 1px 3px 1px rgba(60, 64, 67, 0.15);\n",
              "      fill: #174EA6;\n",
              "    }\n",
              "\n",
              "    .colab-df-buttons div {\n",
              "      margin-bottom: 4px;\n",
              "    }\n",
              "\n",
              "    [theme=dark] .colab-df-convert {\n",
              "      background-color: #3B4455;\n",
              "      fill: #D2E3FC;\n",
              "    }\n",
              "\n",
              "    [theme=dark] .colab-df-convert:hover {\n",
              "      background-color: #434B5C;\n",
              "      box-shadow: 0px 1px 3px 1px rgba(0, 0, 0, 0.15);\n",
              "      filter: drop-shadow(0px 1px 2px rgba(0, 0, 0, 0.3));\n",
              "      fill: #FFFFFF;\n",
              "    }\n",
              "  </style>\n",
              "\n",
              "    <script>\n",
              "      const buttonEl =\n",
              "        document.querySelector('#df-53dcc7c5-e386-45cf-90d5-e491195a596a button.colab-df-convert');\n",
              "      buttonEl.style.display =\n",
              "        google.colab.kernel.accessAllowed ? 'block' : 'none';\n",
              "\n",
              "      async function convertToInteractive(key) {\n",
              "        const element = document.querySelector('#df-53dcc7c5-e386-45cf-90d5-e491195a596a');\n",
              "        const dataTable =\n",
              "          await google.colab.kernel.invokeFunction('convertToInteractive',\n",
              "                                                    [key], {});\n",
              "        if (!dataTable) return;\n",
              "\n",
              "        const docLinkHtml = 'Like what you see? Visit the ' +\n",
              "          '<a target=\"_blank\" href=https://colab.research.google.com/notebooks/data_table.ipynb>data table notebook</a>'\n",
              "          + ' to learn more about interactive tables.';\n",
              "        element.innerHTML = '';\n",
              "        dataTable['output_type'] = 'display_data';\n",
              "        await google.colab.output.renderOutput(dataTable, element);\n",
              "        const docLink = document.createElement('div');\n",
              "        docLink.innerHTML = docLinkHtml;\n",
              "        element.appendChild(docLink);\n",
              "      }\n",
              "    </script>\n",
              "  </div>\n",
              "\n",
              "\n",
              "<div id=\"df-c08bf619-f5b6-4153-a6dd-7c4262071fca\">\n",
              "  <button class=\"colab-df-quickchart\" onclick=\"quickchart('df-c08bf619-f5b6-4153-a6dd-7c4262071fca')\"\n",
              "            title=\"Suggest charts\"\n",
              "            style=\"display:none;\">\n",
              "\n",
              "<svg xmlns=\"http://www.w3.org/2000/svg\" height=\"24px\"viewBox=\"0 0 24 24\"\n",
              "     width=\"24px\">\n",
              "    <g>\n",
              "        <path d=\"M19 3H5c-1.1 0-2 .9-2 2v14c0 1.1.9 2 2 2h14c1.1 0 2-.9 2-2V5c0-1.1-.9-2-2-2zM9 17H7v-7h2v7zm4 0h-2V7h2v10zm4 0h-2v-4h2v4z\"/>\n",
              "    </g>\n",
              "</svg>\n",
              "  </button>\n",
              "\n",
              "<style>\n",
              "  .colab-df-quickchart {\n",
              "      --bg-color: #E8F0FE;\n",
              "      --fill-color: #1967D2;\n",
              "      --hover-bg-color: #E2EBFA;\n",
              "      --hover-fill-color: #174EA6;\n",
              "      --disabled-fill-color: #AAA;\n",
              "      --disabled-bg-color: #DDD;\n",
              "  }\n",
              "\n",
              "  [theme=dark] .colab-df-quickchart {\n",
              "      --bg-color: #3B4455;\n",
              "      --fill-color: #D2E3FC;\n",
              "      --hover-bg-color: #434B5C;\n",
              "      --hover-fill-color: #FFFFFF;\n",
              "      --disabled-bg-color: #3B4455;\n",
              "      --disabled-fill-color: #666;\n",
              "  }\n",
              "\n",
              "  .colab-df-quickchart {\n",
              "    background-color: var(--bg-color);\n",
              "    border: none;\n",
              "    border-radius: 50%;\n",
              "    cursor: pointer;\n",
              "    display: none;\n",
              "    fill: var(--fill-color);\n",
              "    height: 32px;\n",
              "    padding: 0;\n",
              "    width: 32px;\n",
              "  }\n",
              "\n",
              "  .colab-df-quickchart:hover {\n",
              "    background-color: var(--hover-bg-color);\n",
              "    box-shadow: 0 1px 2px rgba(60, 64, 67, 0.3), 0 1px 3px 1px rgba(60, 64, 67, 0.15);\n",
              "    fill: var(--button-hover-fill-color);\n",
              "  }\n",
              "\n",
              "  .colab-df-quickchart-complete:disabled,\n",
              "  .colab-df-quickchart-complete:disabled:hover {\n",
              "    background-color: var(--disabled-bg-color);\n",
              "    fill: var(--disabled-fill-color);\n",
              "    box-shadow: none;\n",
              "  }\n",
              "\n",
              "  .colab-df-spinner {\n",
              "    border: 2px solid var(--fill-color);\n",
              "    border-color: transparent;\n",
              "    border-bottom-color: var(--fill-color);\n",
              "    animation:\n",
              "      spin 1s steps(1) infinite;\n",
              "  }\n",
              "\n",
              "  @keyframes spin {\n",
              "    0% {\n",
              "      border-color: transparent;\n",
              "      border-bottom-color: var(--fill-color);\n",
              "      border-left-color: var(--fill-color);\n",
              "    }\n",
              "    20% {\n",
              "      border-color: transparent;\n",
              "      border-left-color: var(--fill-color);\n",
              "      border-top-color: var(--fill-color);\n",
              "    }\n",
              "    30% {\n",
              "      border-color: transparent;\n",
              "      border-left-color: var(--fill-color);\n",
              "      border-top-color: var(--fill-color);\n",
              "      border-right-color: var(--fill-color);\n",
              "    }\n",
              "    40% {\n",
              "      border-color: transparent;\n",
              "      border-right-color: var(--fill-color);\n",
              "      border-top-color: var(--fill-color);\n",
              "    }\n",
              "    60% {\n",
              "      border-color: transparent;\n",
              "      border-right-color: var(--fill-color);\n",
              "    }\n",
              "    80% {\n",
              "      border-color: transparent;\n",
              "      border-right-color: var(--fill-color);\n",
              "      border-bottom-color: var(--fill-color);\n",
              "    }\n",
              "    90% {\n",
              "      border-color: transparent;\n",
              "      border-bottom-color: var(--fill-color);\n",
              "    }\n",
              "  }\n",
              "</style>\n",
              "\n",
              "  <script>\n",
              "    async function quickchart(key) {\n",
              "      const quickchartButtonEl =\n",
              "        document.querySelector('#' + key + ' button');\n",
              "      quickchartButtonEl.disabled = true;  // To prevent multiple clicks.\n",
              "      quickchartButtonEl.classList.add('colab-df-spinner');\n",
              "      try {\n",
              "        const charts = await google.colab.kernel.invokeFunction(\n",
              "            'suggestCharts', [key], {});\n",
              "      } catch (error) {\n",
              "        console.error('Error during call to suggestCharts:', error);\n",
              "      }\n",
              "      quickchartButtonEl.classList.remove('colab-df-spinner');\n",
              "      quickchartButtonEl.classList.add('colab-df-quickchart-complete');\n",
              "    }\n",
              "    (() => {\n",
              "      let quickchartButtonEl =\n",
              "        document.querySelector('#df-c08bf619-f5b6-4153-a6dd-7c4262071fca button');\n",
              "      quickchartButtonEl.style.display =\n",
              "        google.colab.kernel.accessAllowed ? 'block' : 'none';\n",
              "    })();\n",
              "  </script>\n",
              "</div>\n",
              "    </div>\n",
              "  </div>\n"
            ],
            "application/vnd.google.colaboratory.intrinsic+json": {
              "type": "dataframe",
              "variable_name": "df",
              "summary": "{\n  \"name\": \"df\",\n  \"rows\": 23906,\n  \"fields\": [\n    {\n      \"column\": \"Car_id\",\n      \"properties\": {\n        \"dtype\": \"string\",\n        \"num_unique_values\": 23906,\n        \"samples\": [\n          \"C_CND_003394\",\n          \"C_CND_000517\",\n          \"C_CND_000537\"\n        ],\n        \"semantic_type\": \"\",\n        \"description\": \"\"\n      }\n    },\n    {\n      \"column\": \"Date\",\n      \"properties\": {\n        \"dtype\": \"object\",\n        \"num_unique_values\": 612,\n        \"samples\": [\n          \"4/25/2022\",\n          \"10/15/2022\",\n          \"3/24/2022\"\n        ],\n        \"semantic_type\": \"\",\n        \"description\": \"\"\n      }\n    },\n    {\n      \"column\": \"Customer Name\",\n      \"properties\": {\n        \"dtype\": \"category\",\n        \"num_unique_values\": 3021,\n        \"samples\": [\n          \"Albertine\",\n          \"Orlane\",\n          \"Kelly\"\n        ],\n        \"semantic_type\": \"\",\n        \"description\": \"\"\n      }\n    },\n    {\n      \"column\": \"Gender\",\n      \"properties\": {\n        \"dtype\": \"category\",\n        \"num_unique_values\": 2,\n        \"samples\": [\n          \"Female\",\n          \"Male\"\n        ],\n        \"semantic_type\": \"\",\n        \"description\": \"\"\n      }\n    },\n    {\n      \"column\": \"Annual Income\",\n      \"properties\": {\n        \"dtype\": \"number\",\n        \"std\": 720006,\n        \"min\": 10080,\n        \"max\": 11200000,\n        \"num_unique_values\": 2508,\n        \"samples\": [\n          5355000,\n          542000\n        ],\n        \"semantic_type\": \"\",\n        \"description\": \"\"\n      }\n    },\n    {\n      \"column\": \"Dealer_Name\",\n      \"properties\": {\n        \"dtype\": \"category\",\n        \"num_unique_values\": 28,\n        \"samples\": [\n          \"Race Car Help\",\n          \"New Castle Ford Lincoln Mercury\"\n        ],\n        \"semantic_type\": \"\",\n        \"description\": \"\"\n      }\n    },\n    {\n      \"column\": \"Company\",\n      \"properties\": {\n        \"dtype\": \"category\",\n        \"num_unique_values\": 30,\n        \"samples\": [\n          \"Plymouth\",\n          \"Audi\"\n        ],\n        \"semantic_type\": \"\",\n        \"description\": \"\"\n      }\n    },\n    {\n      \"column\": \"Model\",\n      \"properties\": {\n        \"dtype\": \"category\",\n        \"num_unique_values\": 154,\n        \"samples\": [\n          \"Forester\",\n          \"Breeze\"\n        ],\n        \"semantic_type\": \"\",\n        \"description\": \"\"\n      }\n    },\n    {\n      \"column\": \"Engine\",\n      \"properties\": {\n        \"dtype\": \"category\",\n        \"num_unique_values\": 2,\n        \"samples\": [\n          \"Overhead Camshaft\",\n          \"Double\\u00c2\\u00a0Overhead Camshaft\"\n        ],\n        \"semantic_type\": \"\",\n        \"description\": \"\"\n      }\n    },\n    {\n      \"column\": \"Transmission\",\n      \"properties\": {\n        \"dtype\": \"category\",\n        \"num_unique_values\": 2,\n        \"samples\": [\n          \"Manual\",\n          \"Auto\"\n        ],\n        \"semantic_type\": \"\",\n        \"description\": \"\"\n      }\n    },\n    {\n      \"column\": \"Color\",\n      \"properties\": {\n        \"dtype\": \"category\",\n        \"num_unique_values\": 3,\n        \"samples\": [\n          \"Black\",\n          \"Red\"\n        ],\n        \"semantic_type\": \"\",\n        \"description\": \"\"\n      }\n    },\n    {\n      \"column\": \"Price ($)\",\n      \"properties\": {\n        \"dtype\": \"number\",\n        \"std\": 14788,\n        \"min\": 1200,\n        \"max\": 85800,\n        \"num_unique_values\": 870,\n        \"samples\": [\n          13100,\n          44000\n        ],\n        \"semantic_type\": \"\",\n        \"description\": \"\"\n      }\n    },\n    {\n      \"column\": \"Dealer_No \",\n      \"properties\": {\n        \"dtype\": \"category\",\n        \"num_unique_values\": 7,\n        \"samples\": [\n          \"06457-3834\",\n          \"60504-7114\"\n        ],\n        \"semantic_type\": \"\",\n        \"description\": \"\"\n      }\n    },\n    {\n      \"column\": \"Body Style\",\n      \"properties\": {\n        \"dtype\": \"category\",\n        \"num_unique_values\": 5,\n        \"samples\": [\n          \"Passenger\",\n          \"Sedan\"\n        ],\n        \"semantic_type\": \"\",\n        \"description\": \"\"\n      }\n    },\n    {\n      \"column\": \"Phone\",\n      \"properties\": {\n        \"dtype\": \"number\",\n        \"std\": 867491,\n        \"min\": 6000101,\n        \"max\": 8999579,\n        \"num_unique_values\": 23804,\n        \"samples\": [\n          8955220,\n          8396717\n        ],\n        \"semantic_type\": \"\",\n        \"description\": \"\"\n      }\n    },\n    {\n      \"column\": \"Dealer_Region\",\n      \"properties\": {\n        \"dtype\": \"category\",\n        \"num_unique_values\": 7,\n        \"samples\": [\n          \"Middletown\",\n          \"Aurora\"\n        ],\n        \"semantic_type\": \"\",\n        \"description\": \"\"\n      }\n    }\n  ]\n}"
            }
          },
          "metadata": {},
          "execution_count": 2
        }
      ]
    },
    {
      "cell_type": "markdown",
      "source": [
        "# Membersihkan kolom yang tidak di gunakan dan melihat data yang hilang"
      ],
      "metadata": {
        "id": "6YNXe7ThWE0c"
      }
    },
    {
      "cell_type": "code",
      "source": [
        "df.drop(columns=(['Car_id','Phone']), inplace=True)"
      ],
      "metadata": {
        "id": "vLSsMzLaGKRd"
      },
      "execution_count": 3,
      "outputs": []
    },
    {
      "cell_type": "code",
      "source": [
        "df.drop(columns=('Customer Name'), inplace=True)"
      ],
      "metadata": {
        "id": "ZLKwYpgCI1lG"
      },
      "execution_count": 4,
      "outputs": []
    },
    {
      "cell_type": "code",
      "source": [
        "df.isna().sum()"
      ],
      "metadata": {
        "colab": {
          "base_uri": "https://localhost:8080/"
        },
        "id": "c_xE06VUH6wY",
        "outputId": "ddc4d8f0-ba97-405b-febe-fb8aa6e5b1fa"
      },
      "execution_count": 16,
      "outputs": [
        {
          "output_type": "execute_result",
          "data": {
            "text/plain": [
              "Date             0\n",
              "Gender           0\n",
              "Annual Income    1\n",
              "Dealer_Name      0\n",
              "Company          0\n",
              "Model            0\n",
              "Engine           0\n",
              "Transmission     0\n",
              "Color            0\n",
              "Price ($)        0\n",
              "Dealer_No        0\n",
              "Body Style       0\n",
              "Dealer_Region    0\n",
              "dtype: int64"
            ]
          },
          "metadata": {},
          "execution_count": 16
        }
      ]
    },
    {
      "cell_type": "code",
      "source": [
        "df.dropna(inplace=True)"
      ],
      "metadata": {
        "id": "j9-djIOzooeC"
      },
      "execution_count": 18,
      "outputs": []
    },
    {
      "cell_type": "code",
      "source": [
        "df.duplicated().sum()"
      ],
      "metadata": {
        "colab": {
          "base_uri": "https://localhost:8080/"
        },
        "id": "s-uxYlGsIwHh",
        "outputId": "4f31b3ed-0e18-4cfd-c908-787e23f4e78c"
      },
      "execution_count": 17,
      "outputs": [
        {
          "output_type": "execute_result",
          "data": {
            "text/plain": [
              "0"
            ]
          },
          "metadata": {},
          "execution_count": 17
        }
      ]
    },
    {
      "cell_type": "markdown",
      "source": [
        "# Menyesuaikan tipe data"
      ],
      "metadata": {
        "id": "8qaOR5h5Wox_"
      }
    },
    {
      "cell_type": "code",
      "source": [
        "df.info()"
      ],
      "metadata": {
        "colab": {
          "base_uri": "https://localhost:8080/"
        },
        "id": "XSkL7fmwOZhg",
        "outputId": "13aef833-b506-4fac-b6d5-460c0395c6d0"
      },
      "execution_count": 7,
      "outputs": [
        {
          "output_type": "stream",
          "name": "stdout",
          "text": [
            "<class 'pandas.core.frame.DataFrame'>\n",
            "RangeIndex: 23906 entries, 0 to 23905\n",
            "Data columns (total 13 columns):\n",
            " #   Column         Non-Null Count  Dtype \n",
            "---  ------         --------------  ----- \n",
            " 0   Date           23906 non-null  object\n",
            " 1   Gender         23906 non-null  object\n",
            " 2   Annual Income  23906 non-null  int64 \n",
            " 3   Dealer_Name    23906 non-null  object\n",
            " 4   Company        23906 non-null  object\n",
            " 5   Model          23906 non-null  object\n",
            " 6   Engine         23906 non-null  object\n",
            " 7   Transmission   23906 non-null  object\n",
            " 8   Color          23906 non-null  object\n",
            " 9   Price ($)      23906 non-null  int64 \n",
            " 10  Dealer_No      23906 non-null  object\n",
            " 11  Body Style     23906 non-null  object\n",
            " 12  Dealer_Region  23906 non-null  object\n",
            "dtypes: int64(2), object(11)\n",
            "memory usage: 2.4+ MB\n"
          ]
        }
      ]
    },
    {
      "cell_type": "code",
      "source": [
        "df.describe()"
      ],
      "metadata": {
        "colab": {
          "base_uri": "https://localhost:8080/",
          "height": 297
        },
        "id": "OYKIR-f-XUom",
        "outputId": "50a6c036-4419-4478-ee1a-d706ed1218e2"
      },
      "execution_count": 8,
      "outputs": [
        {
          "output_type": "execute_result",
          "data": {
            "text/plain": [
              "       Annual Income     Price ($)\n",
              "count   2.390600e+04  23906.000000\n",
              "mean    8.308403e+05  28090.247846\n",
              "std     7.200064e+05  14788.687608\n",
              "min     1.008000e+04   1200.000000\n",
              "25%     3.860000e+05  18001.000000\n",
              "50%     7.350000e+05  23000.000000\n",
              "75%     1.175750e+06  34000.000000\n",
              "max     1.120000e+07  85800.000000"
            ],
            "text/html": [
              "\n",
              "  <div id=\"df-bcedb51d-62b1-43f3-879a-f4a93d070803\" class=\"colab-df-container\">\n",
              "    <div>\n",
              "<style scoped>\n",
              "    .dataframe tbody tr th:only-of-type {\n",
              "        vertical-align: middle;\n",
              "    }\n",
              "\n",
              "    .dataframe tbody tr th {\n",
              "        vertical-align: top;\n",
              "    }\n",
              "\n",
              "    .dataframe thead th {\n",
              "        text-align: right;\n",
              "    }\n",
              "</style>\n",
              "<table border=\"1\" class=\"dataframe\">\n",
              "  <thead>\n",
              "    <tr style=\"text-align: right;\">\n",
              "      <th></th>\n",
              "      <th>Annual Income</th>\n",
              "      <th>Price ($)</th>\n",
              "    </tr>\n",
              "  </thead>\n",
              "  <tbody>\n",
              "    <tr>\n",
              "      <th>count</th>\n",
              "      <td>2.390600e+04</td>\n",
              "      <td>23906.000000</td>\n",
              "    </tr>\n",
              "    <tr>\n",
              "      <th>mean</th>\n",
              "      <td>8.308403e+05</td>\n",
              "      <td>28090.247846</td>\n",
              "    </tr>\n",
              "    <tr>\n",
              "      <th>std</th>\n",
              "      <td>7.200064e+05</td>\n",
              "      <td>14788.687608</td>\n",
              "    </tr>\n",
              "    <tr>\n",
              "      <th>min</th>\n",
              "      <td>1.008000e+04</td>\n",
              "      <td>1200.000000</td>\n",
              "    </tr>\n",
              "    <tr>\n",
              "      <th>25%</th>\n",
              "      <td>3.860000e+05</td>\n",
              "      <td>18001.000000</td>\n",
              "    </tr>\n",
              "    <tr>\n",
              "      <th>50%</th>\n",
              "      <td>7.350000e+05</td>\n",
              "      <td>23000.000000</td>\n",
              "    </tr>\n",
              "    <tr>\n",
              "      <th>75%</th>\n",
              "      <td>1.175750e+06</td>\n",
              "      <td>34000.000000</td>\n",
              "    </tr>\n",
              "    <tr>\n",
              "      <th>max</th>\n",
              "      <td>1.120000e+07</td>\n",
              "      <td>85800.000000</td>\n",
              "    </tr>\n",
              "  </tbody>\n",
              "</table>\n",
              "</div>\n",
              "    <div class=\"colab-df-buttons\">\n",
              "\n",
              "  <div class=\"colab-df-container\">\n",
              "    <button class=\"colab-df-convert\" onclick=\"convertToInteractive('df-bcedb51d-62b1-43f3-879a-f4a93d070803')\"\n",
              "            title=\"Convert this dataframe to an interactive table.\"\n",
              "            style=\"display:none;\">\n",
              "\n",
              "  <svg xmlns=\"http://www.w3.org/2000/svg\" height=\"24px\" viewBox=\"0 -960 960 960\">\n",
              "    <path d=\"M120-120v-720h720v720H120Zm60-500h600v-160H180v160Zm220 220h160v-160H400v160Zm0 220h160v-160H400v160ZM180-400h160v-160H180v160Zm440 0h160v-160H620v160ZM180-180h160v-160H180v160Zm440 0h160v-160H620v160Z\"/>\n",
              "  </svg>\n",
              "    </button>\n",
              "\n",
              "  <style>\n",
              "    .colab-df-container {\n",
              "      display:flex;\n",
              "      gap: 12px;\n",
              "    }\n",
              "\n",
              "    .colab-df-convert {\n",
              "      background-color: #E8F0FE;\n",
              "      border: none;\n",
              "      border-radius: 50%;\n",
              "      cursor: pointer;\n",
              "      display: none;\n",
              "      fill: #1967D2;\n",
              "      height: 32px;\n",
              "      padding: 0 0 0 0;\n",
              "      width: 32px;\n",
              "    }\n",
              "\n",
              "    .colab-df-convert:hover {\n",
              "      background-color: #E2EBFA;\n",
              "      box-shadow: 0px 1px 2px rgba(60, 64, 67, 0.3), 0px 1px 3px 1px rgba(60, 64, 67, 0.15);\n",
              "      fill: #174EA6;\n",
              "    }\n",
              "\n",
              "    .colab-df-buttons div {\n",
              "      margin-bottom: 4px;\n",
              "    }\n",
              "\n",
              "    [theme=dark] .colab-df-convert {\n",
              "      background-color: #3B4455;\n",
              "      fill: #D2E3FC;\n",
              "    }\n",
              "\n",
              "    [theme=dark] .colab-df-convert:hover {\n",
              "      background-color: #434B5C;\n",
              "      box-shadow: 0px 1px 3px 1px rgba(0, 0, 0, 0.15);\n",
              "      filter: drop-shadow(0px 1px 2px rgba(0, 0, 0, 0.3));\n",
              "      fill: #FFFFFF;\n",
              "    }\n",
              "  </style>\n",
              "\n",
              "    <script>\n",
              "      const buttonEl =\n",
              "        document.querySelector('#df-bcedb51d-62b1-43f3-879a-f4a93d070803 button.colab-df-convert');\n",
              "      buttonEl.style.display =\n",
              "        google.colab.kernel.accessAllowed ? 'block' : 'none';\n",
              "\n",
              "      async function convertToInteractive(key) {\n",
              "        const element = document.querySelector('#df-bcedb51d-62b1-43f3-879a-f4a93d070803');\n",
              "        const dataTable =\n",
              "          await google.colab.kernel.invokeFunction('convertToInteractive',\n",
              "                                                    [key], {});\n",
              "        if (!dataTable) return;\n",
              "\n",
              "        const docLinkHtml = 'Like what you see? Visit the ' +\n",
              "          '<a target=\"_blank\" href=https://colab.research.google.com/notebooks/data_table.ipynb>data table notebook</a>'\n",
              "          + ' to learn more about interactive tables.';\n",
              "        element.innerHTML = '';\n",
              "        dataTable['output_type'] = 'display_data';\n",
              "        await google.colab.output.renderOutput(dataTable, element);\n",
              "        const docLink = document.createElement('div');\n",
              "        docLink.innerHTML = docLinkHtml;\n",
              "        element.appendChild(docLink);\n",
              "      }\n",
              "    </script>\n",
              "  </div>\n",
              "\n",
              "\n",
              "<div id=\"df-ff5a39ee-0ae0-4c67-bd78-246081ebe56c\">\n",
              "  <button class=\"colab-df-quickchart\" onclick=\"quickchart('df-ff5a39ee-0ae0-4c67-bd78-246081ebe56c')\"\n",
              "            title=\"Suggest charts\"\n",
              "            style=\"display:none;\">\n",
              "\n",
              "<svg xmlns=\"http://www.w3.org/2000/svg\" height=\"24px\"viewBox=\"0 0 24 24\"\n",
              "     width=\"24px\">\n",
              "    <g>\n",
              "        <path d=\"M19 3H5c-1.1 0-2 .9-2 2v14c0 1.1.9 2 2 2h14c1.1 0 2-.9 2-2V5c0-1.1-.9-2-2-2zM9 17H7v-7h2v7zm4 0h-2V7h2v10zm4 0h-2v-4h2v4z\"/>\n",
              "    </g>\n",
              "</svg>\n",
              "  </button>\n",
              "\n",
              "<style>\n",
              "  .colab-df-quickchart {\n",
              "      --bg-color: #E8F0FE;\n",
              "      --fill-color: #1967D2;\n",
              "      --hover-bg-color: #E2EBFA;\n",
              "      --hover-fill-color: #174EA6;\n",
              "      --disabled-fill-color: #AAA;\n",
              "      --disabled-bg-color: #DDD;\n",
              "  }\n",
              "\n",
              "  [theme=dark] .colab-df-quickchart {\n",
              "      --bg-color: #3B4455;\n",
              "      --fill-color: #D2E3FC;\n",
              "      --hover-bg-color: #434B5C;\n",
              "      --hover-fill-color: #FFFFFF;\n",
              "      --disabled-bg-color: #3B4455;\n",
              "      --disabled-fill-color: #666;\n",
              "  }\n",
              "\n",
              "  .colab-df-quickchart {\n",
              "    background-color: var(--bg-color);\n",
              "    border: none;\n",
              "    border-radius: 50%;\n",
              "    cursor: pointer;\n",
              "    display: none;\n",
              "    fill: var(--fill-color);\n",
              "    height: 32px;\n",
              "    padding: 0;\n",
              "    width: 32px;\n",
              "  }\n",
              "\n",
              "  .colab-df-quickchart:hover {\n",
              "    background-color: var(--hover-bg-color);\n",
              "    box-shadow: 0 1px 2px rgba(60, 64, 67, 0.3), 0 1px 3px 1px rgba(60, 64, 67, 0.15);\n",
              "    fill: var(--button-hover-fill-color);\n",
              "  }\n",
              "\n",
              "  .colab-df-quickchart-complete:disabled,\n",
              "  .colab-df-quickchart-complete:disabled:hover {\n",
              "    background-color: var(--disabled-bg-color);\n",
              "    fill: var(--disabled-fill-color);\n",
              "    box-shadow: none;\n",
              "  }\n",
              "\n",
              "  .colab-df-spinner {\n",
              "    border: 2px solid var(--fill-color);\n",
              "    border-color: transparent;\n",
              "    border-bottom-color: var(--fill-color);\n",
              "    animation:\n",
              "      spin 1s steps(1) infinite;\n",
              "  }\n",
              "\n",
              "  @keyframes spin {\n",
              "    0% {\n",
              "      border-color: transparent;\n",
              "      border-bottom-color: var(--fill-color);\n",
              "      border-left-color: var(--fill-color);\n",
              "    }\n",
              "    20% {\n",
              "      border-color: transparent;\n",
              "      border-left-color: var(--fill-color);\n",
              "      border-top-color: var(--fill-color);\n",
              "    }\n",
              "    30% {\n",
              "      border-color: transparent;\n",
              "      border-left-color: var(--fill-color);\n",
              "      border-top-color: var(--fill-color);\n",
              "      border-right-color: var(--fill-color);\n",
              "    }\n",
              "    40% {\n",
              "      border-color: transparent;\n",
              "      border-right-color: var(--fill-color);\n",
              "      border-top-color: var(--fill-color);\n",
              "    }\n",
              "    60% {\n",
              "      border-color: transparent;\n",
              "      border-right-color: var(--fill-color);\n",
              "    }\n",
              "    80% {\n",
              "      border-color: transparent;\n",
              "      border-right-color: var(--fill-color);\n",
              "      border-bottom-color: var(--fill-color);\n",
              "    }\n",
              "    90% {\n",
              "      border-color: transparent;\n",
              "      border-bottom-color: var(--fill-color);\n",
              "    }\n",
              "  }\n",
              "</style>\n",
              "\n",
              "  <script>\n",
              "    async function quickchart(key) {\n",
              "      const quickchartButtonEl =\n",
              "        document.querySelector('#' + key + ' button');\n",
              "      quickchartButtonEl.disabled = true;  // To prevent multiple clicks.\n",
              "      quickchartButtonEl.classList.add('colab-df-spinner');\n",
              "      try {\n",
              "        const charts = await google.colab.kernel.invokeFunction(\n",
              "            'suggestCharts', [key], {});\n",
              "      } catch (error) {\n",
              "        console.error('Error during call to suggestCharts:', error);\n",
              "      }\n",
              "      quickchartButtonEl.classList.remove('colab-df-spinner');\n",
              "      quickchartButtonEl.classList.add('colab-df-quickchart-complete');\n",
              "    }\n",
              "    (() => {\n",
              "      let quickchartButtonEl =\n",
              "        document.querySelector('#df-ff5a39ee-0ae0-4c67-bd78-246081ebe56c button');\n",
              "      quickchartButtonEl.style.display =\n",
              "        google.colab.kernel.accessAllowed ? 'block' : 'none';\n",
              "    })();\n",
              "  </script>\n",
              "</div>\n",
              "    </div>\n",
              "  </div>\n"
            ],
            "application/vnd.google.colaboratory.intrinsic+json": {
              "type": "dataframe",
              "summary": "{\n  \"name\": \"df\",\n  \"rows\": 8,\n  \"fields\": [\n    {\n      \"column\": \"Annual Income\",\n      \"properties\": {\n        \"dtype\": \"number\",\n        \"std\": 3785106.5268250694,\n        \"min\": 10080.0,\n        \"max\": 11200000.0,\n        \"num_unique_values\": 8,\n        \"samples\": [\n          830840.2851167071,\n          735000.0,\n          23906.0\n        ],\n        \"semantic_type\": \"\",\n        \"description\": \"\"\n      }\n    },\n    {\n      \"column\": \"Price ($)\",\n      \"properties\": {\n        \"dtype\": \"number\",\n        \"std\": 25095.544879316494,\n        \"min\": 1200.0,\n        \"max\": 85800.0,\n        \"num_unique_values\": 8,\n        \"samples\": [\n          28090.247845729107,\n          23000.0,\n          23906.0\n        ],\n        \"semantic_type\": \"\",\n        \"description\": \"\"\n      }\n    }\n  ]\n}"
            }
          },
          "metadata": {},
          "execution_count": 8
        }
      ]
    },
    {
      "cell_type": "code",
      "source": [
        "df['Date'] = pd.to_datetime(df['Date'])"
      ],
      "metadata": {
        "id": "NbelS1JFOzbU"
      },
      "execution_count": 9,
      "outputs": []
    },
    {
      "cell_type": "markdown",
      "source": [
        "# Melihat outliers atau pencilan data yang tidak masuka akal"
      ],
      "metadata": {
        "id": "gQ3-T4iLWvQQ"
      }
    },
    {
      "cell_type": "code",
      "source": [
        "df.select_dtypes(include=['int','float']).plot(subplots=True, layout=(1,2), kind='box', figsize=(8,6))\n",
        "plt.subplots_adjust(wspace=0.5)"
      ],
      "metadata": {
        "colab": {
          "base_uri": "https://localhost:8080/",
          "height": 537
        },
        "id": "DB7Jm_FpPNYb",
        "outputId": "1d401a52-5fe0-49bc-abfe-0b8418db993d"
      },
      "execution_count": 10,
      "outputs": [
        {
          "output_type": "display_data",
          "data": {
            "text/plain": [
              "<Figure size 800x600 with 2 Axes>"
            ],
            "image/png": "[encoded data removed]"
          },
          "metadata": {}
        }
      ]
    },
    {
      "cell_type": "code",
      "source": [
        "sns.distplot(df['Annual Income'])\n",
        "plt.show()"
      ],
      "metadata": {
        "colab": {
          "base_uri": "https://localhost:8080/",
          "height": 465
        },
        "id": "zTjBGKJoRMT8",
        "outputId": "1b85fd26-05f4-4cd8-9a95-4ab25a53ed9e"
      },
      "execution_count": 24,
      "outputs": [
        {
          "output_type": "display_data",
          "data": {
            "text/plain": [
              "<Figure size 640x480 with 1 Axes>"
            ],
            "image/png": "[encoded data removed]"
          },
          "metadata": {}
        }
      ]
    },
    {
      "cell_type": "markdown",
      "source": [
        "# Menghapus outliers"
      ],
      "metadata": {
        "id": "DcmIdQ5IXFai"
      }
    },
    {
      "cell_type": "code",
      "source": [
        "a = df[df['Annual Income'] < 10000000]\n",
        "df['Annual Income'] = a['Annual Income']\n",
        "plt.boxplot(a['Annual Income'])\n",
        "plt.show()"
      ],
      "metadata": {
        "colab": {
          "base_uri": "https://localhost:8080/",
          "height": 445
        },
        "id": "RPqrOcFnWWZS",
        "outputId": "bb5da127-040c-4835-f22c-ee954a77c737"
      },
      "execution_count": 14,
      "outputs": [
        {
          "output_type": "display_data",
          "data": {
            "text/plain": [
              "<Figure size 640x480 with 1 Axes>"
            ],
            "image/png": "[encoded data removed]"
          },
          "metadata": {}
        }
      ]
    },
    {
      "cell_type": "code",
      "source": [
        "df.to_csv('/content/gdrive/MyDrive/Colab Notebooks/Car_sales/Car_sales_clean.csv')"
      ],
      "metadata": {
        "id": "FkstoMVWXsy7"
      },
      "execution_count": null,
      "outputs": []
    },
    {
      "cell_type": "code",
      "source": [],
      "metadata": {
        "id": "el0SKH6ZohE1"
      },
      "execution_count": null,
      "outputs": []
    }
  ]
}